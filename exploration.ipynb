{
 "cells": [
  {
   "cell_type": "code",
   "execution_count": 57,
   "id": "i8dkjesvb0o",
   "metadata": {},
   "outputs": [],
   "source": [
    "import requests\n",
    "import os\n",
    "from dotenv import load_dotenv\n",
    "import json\n",
    "import polars as pl\n",
    "import io\n",
    "import polars.selectors as cs\n",
    "\n",
    "# Load environment variables\n",
    "load_dotenv()\n",
    "\n",
    "# Get API token from environment\n",
    "LAMA_API_TOKEN = os.getenv('SECRET_LAMA_API_TOKEN')\n",
    "BASE_URL = \"https://app.lamapoll.de/api/v2\"\n",
    "\n",
    "# Set up headers for authentication\n",
    "headers = {\n",
    "    \"Authorization\": f\"Bearer {LAMA_API_TOKEN}\",\n",
    "    \"Content-Type\": \"application/json\"\n",
    "}"
   ]
  },
  {
   "cell_type": "markdown",
   "id": "yp269uydsj",
   "metadata": {},
   "source": [
    "## Available Polls"
   ]
  },
  {
   "cell_type": "code",
   "execution_count": 3,
   "id": "2s2jd6d1k4v",
   "metadata": {},
   "outputs": [
    {
     "name": "stdout",
     "output_type": "stream",
     "text": [
      "Status Code: 200\n",
      "Number of polls: 2\n",
      "1850964\n"
     ]
    }
   ],
   "source": [
    "response = requests.get(f\"{BASE_URL}/polls\", headers=headers)\n",
    "print(f\"Status Code: {response.status_code}\")\n",
    "response.raise_for_status()\n",
    "polls = response.json()\n",
    "print(f\"Number of polls: {len(polls) if isinstance(polls, list) else 'Unknown'}\")\n",
    "poll_id = polls[0][\"id\"]\n",
    "print(poll_id)"
   ]
  },
  {
   "cell_type": "markdown",
   "id": "upd8try6ad",
   "metadata": {},
   "source": [
    "## Poll Details"
   ]
  },
  {
   "cell_type": "code",
   "execution_count": 4,
   "id": "a5cafc78",
   "metadata": {},
   "outputs": [],
   "source": [
    "\n",
    "response = requests.get(f\"{BASE_URL}/polls/{poll_id}\", headers=headers)\n",
    "response.raise_for_status()\n",
    "poll_details = response.json()"
   ]
  },
  {
   "cell_type": "code",
   "execution_count": 5,
   "id": "445885e2",
   "metadata": {},
   "outputs": [
    {
     "data": {
      "text/plain": [
       "'https://caritas.sslsurvey.de/U25-Peerbefragung'"
      ]
     },
     "execution_count": 5,
     "metadata": {},
     "output_type": "execute_result"
    }
   ],
   "source": [
    "poll_details[\"url\"]"
   ]
  },
  {
   "cell_type": "code",
   "execution_count": 6,
   "id": "ffce17e6",
   "metadata": {},
   "outputs": [
    {
     "data": {
      "text/plain": [
       "{'isPublic': True,\n",
       " 'isCookieLocksEnabled': False,\n",
       " 'isIpLocksEnabled': False,\n",
       " 'isCorrectionModeEnabled': False,\n",
       " 'ipWhitelist': ['*']}"
      ]
     },
     "execution_count": 6,
     "metadata": {},
     "output_type": "execute_result"
    }
   ],
   "source": [
    "poll_details[\"settings\"][\"access\"]"
   ]
  },
  {
   "cell_type": "code",
   "execution_count": 7,
   "id": "05c9c03e",
   "metadata": {},
   "outputs": [
    {
     "data": {
      "text/plain": [
       "{'responsesCount': 86,\n",
       " 'isRunning': True,\n",
       " 'lastActivityAt': '2025-10-06T12:31:12+00:00'}"
      ]
     },
     "execution_count": 7,
     "metadata": {},
     "output_type": "execute_result"
    }
   ],
   "source": [
    "poll_details[\"state\"]"
   ]
  },
  {
   "cell_type": "code",
   "execution_count": 8,
   "id": "df1f3ccc",
   "metadata": {},
   "outputs": [
    {
     "data": {
      "text/plain": [
       "3"
      ]
     },
     "execution_count": 8,
     "metadata": {},
     "output_type": "execute_result"
    }
   ],
   "source": [
    "poll_details[\"pagesCount\"]"
   ]
  },
  {
   "cell_type": "markdown",
   "id": "7406404f",
   "metadata": {},
   "source": [
    "## Questions"
   ]
  },
  {
   "cell_type": "code",
   "execution_count": 9,
   "id": "4f7b4873",
   "metadata": {},
   "outputs": [
    {
     "data": {
      "text/plain": [
       "22"
      ]
     },
     "execution_count": 9,
     "metadata": {},
     "output_type": "execute_result"
    }
   ],
   "source": [
    "response = requests.get(f\"{BASE_URL}/polls/{poll_id}/questions\", headers=headers)\n",
    "response.raise_for_status()\n",
    "questions = response.json()\n",
    "len(questions)"
   ]
  },
  {
   "cell_type": "code",
   "execution_count": 10,
   "id": "b0dfa366",
   "metadata": {},
   "outputs": [
    {
     "data": {
      "text/plain": [
       "{'id': 27937500,\n",
       " 'pollId': 1850964,\n",
       " 'pageId': 8134161,\n",
       " 'pagePosition': 0,\n",
       " 'position': 2,\n",
       " 'question': {'de': 'Welche drei Worte verbindest du spontan mit [U25]?\\xa0'},\n",
       " 'description': {},\n",
       " 'anonym': False,\n",
       " 'mandatory': False,\n",
       " 'type': 'INPUT',\n",
       " 'groups': [{'name': {'de': 'Erstes Textfeld:'},\n",
       "   'labels': [],\n",
       "   'range': [],\n",
       "   'varnames': ['V1'],\n",
       "   'codes': [],\n",
       "   'items': [{'id': 'V01_8ff5376a05a639fce2327f095ce33409',\n",
       "     'name': {'de': 'Erstes Textfeld:'}}],\n",
       "   'inputType': 'SINGLELINE'},\n",
       "  {'name': {'de': 'Zweites Textfeld:'},\n",
       "   'labels': [],\n",
       "   'range': [],\n",
       "   'varnames': ['V2'],\n",
       "   'codes': [],\n",
       "   'items': [{'id': 'V01_6553e5564b7d645accf244bfb9a06556',\n",
       "     'name': {'de': 'Zweites Textfeld:'}}],\n",
       "   'inputType': 'SINGLELINE'},\n",
       "  {'name': {'de': 'Drittes Textfeld:'},\n",
       "   'labels': [],\n",
       "   'range': [],\n",
       "   'varnames': ['V3'],\n",
       "   'codes': [],\n",
       "   'items': [{'id': 'V01_4f9d0986232055992b5504c6ce424d6f',\n",
       "     'name': {'de': 'Drittes Textfeld:'}}],\n",
       "   'inputType': 'SINGLELINE'}]}"
      ]
     },
     "execution_count": 10,
     "metadata": {},
     "output_type": "execute_result"
    }
   ],
   "source": [
    "questions[0]"
   ]
  },
  {
   "cell_type": "markdown",
   "id": "3437b796",
   "metadata": {},
   "source": [
    "### Creating a dataframe"
   ]
  },
  {
   "cell_type": "code",
   "execution_count": 11,
   "id": "cec6619e",
   "metadata": {},
   "outputs": [
    {
     "data": {
      "text/html": [
       "<div><style>\n",
       ".dataframe > thead > tr,\n",
       ".dataframe > tbody > tr {\n",
       "  text-align: right;\n",
       "  white-space: pre-wrap;\n",
       "}\n",
       "</style>\n",
       "<small>shape: (5, 7)</small><table border=\"1\" class=\"dataframe\"><thead><tr><th>text</th><th>id</th><th>absolute_position</th><th>relative_section_position</th><th>type</th><th>number_groups</th><th>page_number</th></tr><tr><td>str</td><td>i64</td><td>i64</td><td>i64</td><td>str</td><td>i64</td><td>i64</td></tr></thead><tbody><tr><td>&quot;Welche drei Worte verbindest d…</td><td>27937500</td><td>1</td><td>2</td><td>&quot;INPUT&quot;</td><td>3</td><td>1</td></tr><tr><td>&quot;Wie lange bist du schon bei [U…</td><td>27937503</td><td>2</td><td>3</td><td>&quot;CHOICE&quot;</td><td>1</td><td>1</td></tr><tr><td>&quot;Wie bist du zu [U25] gekommen?&quot;</td><td>27937506</td><td>3</td><td>4</td><td>&quot;CHOICE&quot;</td><td>1</td><td>1</td></tr><tr><td>&quot;Nachfolgend findest du einige …</td><td>27937509</td><td>4</td><td>5</td><td>&quot;MATRIX&quot;</td><td>1</td><td>1</td></tr><tr><td>&quot;Wie geht es dir damit aktuell?…</td><td>27937512</td><td>5</td><td>7</td><td>&quot;CHOICE&quot;</td><td>1</td><td>1</td></tr></tbody></table></div>"
      ],
      "text/plain": [
       "shape: (5, 7)\n",
       "┌────────────────┬──────────┬───────────────┬───────────────┬────────┬───────────────┬─────────────┐\n",
       "│ text           ┆ id       ┆ absolute_posi ┆ relative_sect ┆ type   ┆ number_groups ┆ page_number │\n",
       "│ ---            ┆ ---      ┆ tion          ┆ ion_position  ┆ ---    ┆ ---           ┆ ---         │\n",
       "│ str            ┆ i64      ┆ ---           ┆ ---           ┆ str    ┆ i64           ┆ i64         │\n",
       "│                ┆          ┆ i64           ┆ i64           ┆        ┆               ┆             │\n",
       "╞════════════════╪══════════╪═══════════════╪═══════════════╪════════╪═══════════════╪═════════════╡\n",
       "│ Welche drei    ┆ 27937500 ┆ 1             ┆ 2             ┆ INPUT  ┆ 3             ┆ 1           │\n",
       "│ Worte          ┆          ┆               ┆               ┆        ┆               ┆             │\n",
       "│ verbindest d…  ┆          ┆               ┆               ┆        ┆               ┆             │\n",
       "│ Wie lange bist ┆ 27937503 ┆ 2             ┆ 3             ┆ CHOICE ┆ 1             ┆ 1           │\n",
       "│ du schon bei   ┆          ┆               ┆               ┆        ┆               ┆             │\n",
       "│ [U…            ┆          ┆               ┆               ┆        ┆               ┆             │\n",
       "│ Wie bist du zu ┆ 27937506 ┆ 3             ┆ 4             ┆ CHOICE ┆ 1             ┆ 1           │\n",
       "│ [U25]          ┆          ┆               ┆               ┆        ┆               ┆             │\n",
       "│ gekommen?      ┆          ┆               ┆               ┆        ┆               ┆             │\n",
       "│ Nachfolgend    ┆ 27937509 ┆ 4             ┆ 5             ┆ MATRIX ┆ 1             ┆ 1           │\n",
       "│ findest du     ┆          ┆               ┆               ┆        ┆               ┆             │\n",
       "│ einige …       ┆          ┆               ┆               ┆        ┆               ┆             │\n",
       "│ Wie geht es    ┆ 27937512 ┆ 5             ┆ 7             ┆ CHOICE ┆ 1             ┆ 1           │\n",
       "│ dir damit      ┆          ┆               ┆               ┆        ┆               ┆             │\n",
       "│ aktuell?…      ┆          ┆               ┆               ┆        ┆               ┆             │\n",
       "└────────────────┴──────────┴───────────────┴───────────────┴────────┴───────────────┴─────────────┘"
      ]
     },
     "execution_count": 11,
     "metadata": {},
     "output_type": "execute_result"
    }
   ],
   "source": [
    "unique_pages = list(set([question[\"pageId\"] for question in questions]))\n",
    "pages_dict = dict(zip(unique_pages, range(1, len(unique_pages)+1)))\n",
    "\n",
    "\n",
    "df = pl.DataFrame(\n",
    "    {\n",
    "        \"text\": [q[\"question\"][\"de\"] for q in questions],\n",
    "        \"id\": [q[\"id\"] for q in questions],\n",
    "        \"absolute_position\": list(range(1, len(questions) + 1)),\n",
    "        \"relative_section_position\": [q[\"position\"] for q in questions],\n",
    "        \"type\": [question[\"type\"] for question in questions],\n",
    "        \"number_groups\": [len(question[\"groups\"]) for question in questions],\n",
    "        \"page_number\": [pages_dict[question[\"pageId\"]] for question in questions],\n",
    "    }\n",
    ")\n",
    "df.head()"
   ]
  },
  {
   "cell_type": "markdown",
   "id": "7f5e2493",
   "metadata": {},
   "source": [
    "### Types of Questions:"
   ]
  },
  {
   "cell_type": "code",
   "execution_count": 12,
   "id": "297501de",
   "metadata": {},
   "outputs": [
    {
     "data": {
      "text/html": [
       "<div><style>\n",
       ".dataframe > thead > tr,\n",
       ".dataframe > tbody > tr {\n",
       "  text-align: right;\n",
       "  white-space: pre-wrap;\n",
       "}\n",
       "</style>\n",
       "<small>shape: (4, 2)</small><table border=\"1\" class=\"dataframe\"><thead><tr><th>type</th><th>count</th></tr><tr><td>str</td><td>u32</td></tr></thead><tbody><tr><td>&quot;INPUT&quot;</td><td>7</td></tr><tr><td>&quot;SCALE&quot;</td><td>2</td></tr><tr><td>&quot;MATRIX&quot;</td><td>1</td></tr><tr><td>&quot;CHOICE&quot;</td><td>12</td></tr></tbody></table></div>"
      ],
      "text/plain": [
       "shape: (4, 2)\n",
       "┌────────┬───────┐\n",
       "│ type   ┆ count │\n",
       "│ ---    ┆ ---   │\n",
       "│ str    ┆ u32   │\n",
       "╞════════╪═══════╡\n",
       "│ INPUT  ┆ 7     │\n",
       "│ SCALE  ┆ 2     │\n",
       "│ MATRIX ┆ 1     │\n",
       "│ CHOICE ┆ 12    │\n",
       "└────────┴───────┘"
      ]
     },
     "execution_count": 12,
     "metadata": {},
     "output_type": "execute_result"
    }
   ],
   "source": [
    "df[\"type\"].value_counts()"
   ]
  },
  {
   "cell_type": "markdown",
   "id": "c9c107e2",
   "metadata": {},
   "source": [
    "No questions are mandatory"
   ]
  },
  {
   "cell_type": "code",
   "execution_count": 13,
   "id": "06954ac6",
   "metadata": {},
   "outputs": [
    {
     "data": {
      "text/html": [
       "<div><style>\n",
       ".dataframe > thead > tr,\n",
       ".dataframe > tbody > tr {\n",
       "  text-align: right;\n",
       "  white-space: pre-wrap;\n",
       "}\n",
       "</style>\n",
       "<small>shape: (1, 2)</small><table border=\"1\" class=\"dataframe\"><thead><tr><th>column_0</th><th>count</th></tr><tr><td>bool</td><td>u32</td></tr></thead><tbody><tr><td>false</td><td>22</td></tr></tbody></table></div>"
      ],
      "text/plain": [
       "shape: (1, 2)\n",
       "┌──────────┬───────┐\n",
       "│ column_0 ┆ count │\n",
       "│ ---      ┆ ---   │\n",
       "│ bool     ┆ u32   │\n",
       "╞══════════╪═══════╡\n",
       "│ false    ┆ 22    │\n",
       "└──────────┴───────┘"
      ]
     },
     "execution_count": 13,
     "metadata": {},
     "output_type": "execute_result"
    }
   ],
   "source": [
    "pl.DataFrame([question[\"mandatory\"] for question in questions])[\"column_0\"].value_counts()"
   ]
  },
  {
   "cell_type": "markdown",
   "id": "911340ea",
   "metadata": {},
   "source": [
    "#### Number of Subgroups of questions"
   ]
  },
  {
   "cell_type": "code",
   "execution_count": 14,
   "id": "3a69757d",
   "metadata": {},
   "outputs": [
    {
     "data": {
      "text/html": [
       "<div><style>\n",
       ".dataframe > thead > tr,\n",
       ".dataframe > tbody > tr {\n",
       "  text-align: right;\n",
       "  white-space: pre-wrap;\n",
       "}\n",
       "</style>\n",
       "<small>shape: (3, 2)</small><table border=\"1\" class=\"dataframe\"><thead><tr><th>number_groups</th><th>count</th></tr><tr><td>i64</td><td>u32</td></tr></thead><tbody><tr><td>1</td><td>17</td></tr><tr><td>2</td><td>4</td></tr><tr><td>3</td><td>1</td></tr></tbody></table></div>"
      ],
      "text/plain": [
       "shape: (3, 2)\n",
       "┌───────────────┬───────┐\n",
       "│ number_groups ┆ count │\n",
       "│ ---           ┆ ---   │\n",
       "│ i64           ┆ u32   │\n",
       "╞═══════════════╪═══════╡\n",
       "│ 1             ┆ 17    │\n",
       "│ 2             ┆ 4     │\n",
       "│ 3             ┆ 1     │\n",
       "└───────────────┴───────┘"
      ]
     },
     "execution_count": 14,
     "metadata": {},
     "output_type": "execute_result"
    }
   ],
   "source": [
    "df[\"number_groups\"].value_counts().sort(\"count\", descending=True)"
   ]
  },
  {
   "cell_type": "markdown",
   "id": "e80fb4ff",
   "metadata": {},
   "source": [
    "Count = 1 should be easy to handle"
   ]
  },
  {
   "cell_type": "markdown",
   "id": "c592ba2c",
   "metadata": {},
   "source": [
    "### Varnames"
   ]
  },
  {
   "cell_type": "code",
   "execution_count": 15,
   "id": "5a494675",
   "metadata": {},
   "outputs": [
    {
     "data": {
      "text/html": [
       "<div><style>\n",
       ".dataframe > thead > tr,\n",
       ".dataframe > tbody > tr {\n",
       "  text-align: right;\n",
       "  white-space: pre-wrap;\n",
       "}\n",
       "</style>\n",
       "<small>shape: (5, 2)</small><table border=\"1\" class=\"dataframe\"><thead><tr><th>number_varnames</th><th>count</th></tr><tr><td>i64</td><td>u32</td></tr></thead><tbody><tr><td>8</td><td>1</td></tr><tr><td>14</td><td>2</td></tr><tr><td>1</td><td>23</td></tr><tr><td>6</td><td>1</td></tr><tr><td>10</td><td>1</td></tr></tbody></table></div>"
      ],
      "text/plain": [
       "shape: (5, 2)\n",
       "┌─────────────────┬───────┐\n",
       "│ number_varnames ┆ count │\n",
       "│ ---             ┆ ---   │\n",
       "│ i64             ┆ u32   │\n",
       "╞═════════════════╪═══════╡\n",
       "│ 8               ┆ 1     │\n",
       "│ 14              ┆ 2     │\n",
       "│ 1               ┆ 23    │\n",
       "│ 6               ┆ 1     │\n",
       "│ 10              ┆ 1     │\n",
       "└─────────────────┴───────┘"
      ]
     },
     "execution_count": 15,
     "metadata": {},
     "output_type": "execute_result"
    }
   ],
   "source": [
    "pl.DataFrame([len(g[\"varnames\"]) for q in questions for g in q[\"groups\"]]).rename({\"column_0\": \"number_varnames\"})[\"number_varnames\"].value_counts()"
   ]
  },
  {
   "cell_type": "code",
   "execution_count": 16,
   "id": "6a9bfe30",
   "metadata": {},
   "outputs": [
    {
     "data": {
      "text/plain": [
       "['V1']"
      ]
     },
     "execution_count": 16,
     "metadata": {},
     "output_type": "execute_result"
    }
   ],
   "source": [
    "questions[0][\"groups\"][0][\"varnames\"]"
   ]
  },
  {
   "cell_type": "markdown",
   "id": "ffdc0694",
   "metadata": {},
   "source": [
    "## Items"
   ]
  },
  {
   "cell_type": "code",
   "execution_count": 17,
   "id": "d5624afb",
   "metadata": {},
   "outputs": [
    {
     "data": {
      "text/html": [
       "<div><style>\n",
       ".dataframe > thead > tr,\n",
       ".dataframe > tbody > tr {\n",
       "  text-align: right;\n",
       "  white-space: pre-wrap;\n",
       "}\n",
       "</style>\n",
       "<small>shape: (2, 2)</small><table border=\"1\" class=\"dataframe\"><thead><tr><th>number_items</th><th>count</th></tr><tr><td>i64</td><td>u32</td></tr></thead><tbody><tr><td>14</td><td>1</td></tr><tr><td>1</td><td>27</td></tr></tbody></table></div>"
      ],
      "text/plain": [
       "shape: (2, 2)\n",
       "┌──────────────┬───────┐\n",
       "│ number_items ┆ count │\n",
       "│ ---          ┆ ---   │\n",
       "│ i64          ┆ u32   │\n",
       "╞══════════════╪═══════╡\n",
       "│ 14           ┆ 1     │\n",
       "│ 1            ┆ 27    │\n",
       "└──────────────┴───────┘"
      ]
     },
     "execution_count": 17,
     "metadata": {},
     "output_type": "execute_result"
    }
   ],
   "source": [
    "pl.DataFrame([len(g[\"items\"]) for q in questions for g in q[\"groups\"]]).rename({\"column_0\": \"number_items\"})[\"number_items\"].value_counts()"
   ]
  },
  {
   "cell_type": "code",
   "execution_count": 18,
   "id": "4725fbde",
   "metadata": {},
   "outputs": [
    {
     "data": {
      "text/plain": [
       "[{'id': 'V01_8ff5376a05a639fce2327f095ce33409',\n",
       "  'name': {'de': 'Erstes Textfeld:'}}]"
      ]
     },
     "execution_count": 18,
     "metadata": {},
     "output_type": "execute_result"
    }
   ],
   "source": [
    "questions[0][\"groups\"][0][\"items\"]"
   ]
  },
  {
   "cell_type": "markdown",
   "id": "955f2ae2",
   "metadata": {},
   "source": [
    "### Type by group number"
   ]
  },
  {
   "cell_type": "code",
   "execution_count": 19,
   "id": "16d36cbe",
   "metadata": {},
   "outputs": [
    {
     "name": "stdout",
     "output_type": "stream",
     "text": [
      "shape: (7, 3)\n",
      "┌────────┬───────────────┬───────┐\n",
      "│ type   ┆ number_groups ┆ count │\n",
      "│ ---    ┆ ---           ┆ ---   │\n",
      "│ str    ┆ i64           ┆ u32   │\n",
      "╞════════╪═══════════════╪═══════╡\n",
      "│ INPUT  ┆ 3             ┆ 1     │\n",
      "│ INPUT  ┆ 2             ┆ 1     │\n",
      "│ INPUT  ┆ 1             ┆ 5     │\n",
      "│ CHOICE ┆ 1             ┆ 9     │\n",
      "│ CHOICE ┆ 2             ┆ 3     │\n",
      "│ MATRIX ┆ 1             ┆ 1     │\n",
      "│ SCALE  ┆ 1             ┆ 2     │\n",
      "└────────┴───────────────┴───────┘\n"
     ]
    }
   ],
   "source": [
    "combinations = (\n",
    "    df.group_by(\"type\")\n",
    "    .agg(pl.col(\"number_groups\").value_counts())\n",
    "    .explode(\"number_groups\")\n",
    "    .unnest(\"number_groups\")\n",
    ")\n",
    "\n",
    "print(combinations)"
   ]
  },
  {
   "cell_type": "markdown",
   "id": "78e16b67",
   "metadata": {},
   "source": [
    "### Look at groups and items"
   ]
  },
  {
   "cell_type": "markdown",
   "id": "e0f631cd",
   "metadata": {},
   "source": [
    "#### Groups"
   ]
  },
  {
   "cell_type": "code",
   "execution_count": 20,
   "id": "346d0b57",
   "metadata": {},
   "outputs": [
    {
     "data": {
      "text/html": [
       "<div><style>\n",
       ".dataframe > thead > tr,\n",
       ".dataframe > tbody > tr {\n",
       "  text-align: right;\n",
       "  white-space: pre-wrap;\n",
       "}\n",
       "</style>\n",
       "<small>shape: (5, 6)</small><table border=\"1\" class=\"dataframe\"><thead><tr><th>question_id</th><th>group_id</th><th>group_name_de</th><th>number_varnames</th><th>number_items</th><th>number_labels</th></tr><tr><td>i64</td><td>i64</td><td>str</td><td>i64</td><td>i64</td><td>i64</td></tr></thead><tbody><tr><td>27937500</td><td>0</td><td>&quot;Erstes Textfeld:&quot;</td><td>1</td><td>1</td><td>0</td></tr><tr><td>27937500</td><td>1</td><td>&quot;Zweites Textfeld:&quot;</td><td>1</td><td>1</td><td>0</td></tr><tr><td>27937500</td><td>2</td><td>&quot;Drittes Textfeld:&quot;</td><td>1</td><td>1</td><td>0</td></tr><tr><td>27937503</td><td>0</td><td>null</td><td>1</td><td>1</td><td>5</td></tr><tr><td>27937506</td><td>0</td><td>null</td><td>8</td><td>1</td><td>8</td></tr></tbody></table></div>"
      ],
      "text/plain": [
       "shape: (5, 6)\n",
       "┌─────────────┬──────────┬───────────────────┬─────────────────┬──────────────┬───────────────┐\n",
       "│ question_id ┆ group_id ┆ group_name_de     ┆ number_varnames ┆ number_items ┆ number_labels │\n",
       "│ ---         ┆ ---      ┆ ---               ┆ ---             ┆ ---          ┆ ---           │\n",
       "│ i64         ┆ i64      ┆ str               ┆ i64             ┆ i64          ┆ i64           │\n",
       "╞═════════════╪══════════╪═══════════════════╪═════════════════╪══════════════╪═══════════════╡\n",
       "│ 27937500    ┆ 0        ┆ Erstes Textfeld:  ┆ 1               ┆ 1            ┆ 0             │\n",
       "│ 27937500    ┆ 1        ┆ Zweites Textfeld: ┆ 1               ┆ 1            ┆ 0             │\n",
       "│ 27937500    ┆ 2        ┆ Drittes Textfeld: ┆ 1               ┆ 1            ┆ 0             │\n",
       "│ 27937503    ┆ 0        ┆ null              ┆ 1               ┆ 1            ┆ 5             │\n",
       "│ 27937506    ┆ 0        ┆ null              ┆ 8               ┆ 1            ┆ 8             │\n",
       "└─────────────┴──────────┴───────────────────┴─────────────────┴──────────────┴───────────────┘"
      ]
     },
     "execution_count": 20,
     "metadata": {},
     "output_type": "execute_result"
    }
   ],
   "source": [
    "# Create groups dataframe with question_id\n",
    "groups_data = []\n",
    "for q in questions:\n",
    "    question_id = q[\"id\"]\n",
    "    for i,group in enumerate(q[\"groups\"]):\n",
    "        group_id = i\n",
    "        group_name = group.get(\"name\", {})\n",
    "        groups_data.append({\n",
    "            \"question_id\": question_id,\n",
    "            \"group_id\": group_id,\n",
    "            \"group_name_de\": group_name.get(\"de\") if isinstance(group_name, dict) else None,\n",
    "            \"number_varnames\": len(group.get(\"varnames\", [])),\n",
    "            \"number_items\": len(group.get(\"items\", [])),\n",
    "            \"number_labels\": len(group.get(\"labels\", [])),\n",
    "        })\n",
    "\n",
    "df_groups = pl.DataFrame(groups_data)\n",
    "df_groups.head()\n"
   ]
  },
  {
   "cell_type": "markdown",
   "id": "3aa94fa3",
   "metadata": {},
   "source": [
    "#### Items"
   ]
  },
  {
   "cell_type": "code",
   "execution_count": 21,
   "id": "adf2ff1e",
   "metadata": {},
   "outputs": [
    {
     "data": {
      "text/html": [
       "<div><style>\n",
       ".dataframe > thead > tr,\n",
       ".dataframe > tbody > tr {\n",
       "  text-align: right;\n",
       "  white-space: pre-wrap;\n",
       "}\n",
       "</style>\n",
       "<small>shape: (5, 4)</small><table border=\"1\" class=\"dataframe\"><thead><tr><th>question_id</th><th>item_id</th><th>item_name_de</th><th>input_type</th></tr><tr><td>i64</td><td>str</td><td>str</td><td>str</td></tr></thead><tbody><tr><td>27937500</td><td>&quot;V01_8ff5376a05a639fce2327f095c…</td><td>&quot;Erstes Textfeld:&quot;</td><td>&quot;SINGLELINE&quot;</td></tr><tr><td>27937500</td><td>&quot;V01_6553e5564b7d645accf244bfb9…</td><td>&quot;Zweites Textfeld:&quot;</td><td>&quot;SINGLELINE&quot;</td></tr><tr><td>27937500</td><td>&quot;V01_4f9d0986232055992b5504c6ce…</td><td>&quot;Drittes Textfeld:&quot;</td><td>&quot;SINGLELINE&quot;</td></tr><tr><td>27937503</td><td>&quot;V01_9d2266c406d1b0cbb0f54bec41…</td><td>null</td><td>null</td></tr><tr><td>27937506</td><td>&quot;V01_0dc33bd3ee6bd3abe04b37031b…</td><td>null</td><td>null</td></tr></tbody></table></div>"
      ],
      "text/plain": [
       "shape: (5, 4)\n",
       "┌─────────────┬─────────────────────────────────┬───────────────────┬────────────┐\n",
       "│ question_id ┆ item_id                         ┆ item_name_de      ┆ input_type │\n",
       "│ ---         ┆ ---                             ┆ ---               ┆ ---        │\n",
       "│ i64         ┆ str                             ┆ str               ┆ str        │\n",
       "╞═════════════╪═════════════════════════════════╪═══════════════════╪════════════╡\n",
       "│ 27937500    ┆ V01_8ff5376a05a639fce2327f095c… ┆ Erstes Textfeld:  ┆ SINGLELINE │\n",
       "│ 27937500    ┆ V01_6553e5564b7d645accf244bfb9… ┆ Zweites Textfeld: ┆ SINGLELINE │\n",
       "│ 27937500    ┆ V01_4f9d0986232055992b5504c6ce… ┆ Drittes Textfeld: ┆ SINGLELINE │\n",
       "│ 27937503    ┆ V01_9d2266c406d1b0cbb0f54bec41… ┆ null              ┆ null       │\n",
       "│ 27937506    ┆ V01_0dc33bd3ee6bd3abe04b37031b… ┆ null              ┆ null       │\n",
       "└─────────────┴─────────────────────────────────┴───────────────────┴────────────┘"
      ]
     },
     "execution_count": 21,
     "metadata": {},
     "output_type": "execute_result"
    }
   ],
   "source": [
    "items_data = []\n",
    "for q in questions:\n",
    "    question_id = q[\"id\"]\n",
    "    for group in q[\"groups\"]:\n",
    "        input_type = group.get(\"inputType\", None)\n",
    "        for item in group.get(\"items\", []):\n",
    "            item_name = item.get(\"name\", {})\n",
    "            items_data.append({\n",
    "                \"question_id\": question_id,\n",
    "                \"item_id\": item.get(\"id\"),\n",
    "                \"item_name_de\": item_name.get(\"de\") if isinstance(item_name, dict) else None,\n",
    "                \"input_type\": input_type,\n",
    "            })\n",
    "\n",
    "df_items = pl.DataFrame(items_data)\n",
    "df_items.head()\n"
   ]
  },
  {
   "cell_type": "code",
   "execution_count": 22,
   "id": "077b4f37",
   "metadata": {},
   "outputs": [
    {
     "data": {
      "text/html": [
       "<div><style>\n",
       ".dataframe > thead > tr,\n",
       ".dataframe > tbody > tr {\n",
       "  text-align: right;\n",
       "  white-space: pre-wrap;\n",
       "}\n",
       "</style>\n",
       "<small>shape: (4, 2)</small><table border=\"1\" class=\"dataframe\"><thead><tr><th>input_type</th><th>count</th></tr><tr><td>str</td><td>u32</td></tr></thead><tbody><tr><td>&quot;SINGLELINE&quot;</td><td>9</td></tr><tr><td>null</td><td>28</td></tr><tr><td>&quot;MULTILINE&quot;</td><td>1</td></tr><tr><td>&quot;INTEGER&quot;</td><td>3</td></tr></tbody></table></div>"
      ],
      "text/plain": [
       "shape: (4, 2)\n",
       "┌────────────┬───────┐\n",
       "│ input_type ┆ count │\n",
       "│ ---        ┆ ---   │\n",
       "│ str        ┆ u32   │\n",
       "╞════════════╪═══════╡\n",
       "│ SINGLELINE ┆ 9     │\n",
       "│ null       ┆ 28    │\n",
       "│ MULTILINE  ┆ 1     │\n",
       "│ INTEGER    ┆ 3     │\n",
       "└────────────┴───────┘"
      ]
     },
     "execution_count": 22,
     "metadata": {},
     "output_type": "execute_result"
    }
   ],
   "source": [
    "df_items[\"input_type\"].value_counts()"
   ]
  },
  {
   "cell_type": "markdown",
   "id": "8aef9609",
   "metadata": {},
   "source": [
    "#### Groups: More than one variable associated"
   ]
  },
  {
   "cell_type": "code",
   "execution_count": 23,
   "id": "e5f52c94",
   "metadata": {},
   "outputs": [
    {
     "data": {
      "text/html": [
       "<div><style>\n",
       ".dataframe > thead > tr,\n",
       ".dataframe > tbody > tr {\n",
       "  text-align: right;\n",
       "  white-space: pre-wrap;\n",
       "}\n",
       "</style>\n",
       "<small>shape: (5, 6)</small><table border=\"1\" class=\"dataframe\"><thead><tr><th>question_id</th><th>group_id</th><th>group_name_de</th><th>number_varnames</th><th>number_items</th><th>number_labels</th></tr><tr><td>i64</td><td>i64</td><td>str</td><td>i64</td><td>i64</td><td>i64</td></tr></thead><tbody><tr><td>27937506</td><td>0</td><td>null</td><td>8</td><td>1</td><td>8</td></tr><tr><td>27937509</td><td>0</td><td>null</td><td>14</td><td>14</td><td>6</td></tr><tr><td>27937521</td><td>0</td><td>null</td><td>14</td><td>1</td><td>14</td></tr><tr><td>27937524</td><td>0</td><td>null</td><td>10</td><td>1</td><td>10</td></tr><tr><td>27937548</td><td>0</td><td>null</td><td>6</td><td>1</td><td>6</td></tr></tbody></table></div>"
      ],
      "text/plain": [
       "shape: (5, 6)\n",
       "┌─────────────┬──────────┬───────────────┬─────────────────┬──────────────┬───────────────┐\n",
       "│ question_id ┆ group_id ┆ group_name_de ┆ number_varnames ┆ number_items ┆ number_labels │\n",
       "│ ---         ┆ ---      ┆ ---           ┆ ---             ┆ ---          ┆ ---           │\n",
       "│ i64         ┆ i64      ┆ str           ┆ i64             ┆ i64          ┆ i64           │\n",
       "╞═════════════╪══════════╪═══════════════╪═════════════════╪══════════════╪═══════════════╡\n",
       "│ 27937506    ┆ 0        ┆ null          ┆ 8               ┆ 1            ┆ 8             │\n",
       "│ 27937509    ┆ 0        ┆ null          ┆ 14              ┆ 14           ┆ 6             │\n",
       "│ 27937521    ┆ 0        ┆ null          ┆ 14              ┆ 1            ┆ 14            │\n",
       "│ 27937524    ┆ 0        ┆ null          ┆ 10              ┆ 1            ┆ 10            │\n",
       "│ 27937548    ┆ 0        ┆ null          ┆ 6               ┆ 1            ┆ 6             │\n",
       "└─────────────┴──────────┴───────────────┴─────────────────┴──────────────┴───────────────┘"
      ]
     },
     "execution_count": 23,
     "metadata": {},
     "output_type": "execute_result"
    }
   ],
   "source": [
    "df_groups.filter(pl.col(\"number_varnames\")>1)"
   ]
  },
  {
   "cell_type": "markdown",
   "id": "dd8bcf03",
   "metadata": {},
   "source": [
    "One item but multiple variable names (set of boolean question)"
   ]
  },
  {
   "cell_type": "code",
   "execution_count": 24,
   "id": "63462d72",
   "metadata": {},
   "outputs": [
    {
     "data": {
      "text/html": [
       "<div><style>\n",
       ".dataframe > thead > tr,\n",
       ".dataframe > tbody > tr {\n",
       "  text-align: right;\n",
       "  white-space: pre-wrap;\n",
       "}\n",
       "</style>\n",
       "<small>shape: (2, 6)</small><table border=\"1\" class=\"dataframe\"><thead><tr><th>question_id</th><th>group_id</th><th>group_name_de</th><th>number_varnames</th><th>number_items</th><th>number_labels</th></tr><tr><td>i64</td><td>i64</td><td>str</td><td>i64</td><td>i64</td><td>i64</td></tr></thead><tbody><tr><td>27937521</td><td>0</td><td>null</td><td>14</td><td>1</td><td>14</td></tr><tr><td>27937521</td><td>1</td><td>&quot;Anderes&quot;</td><td>1</td><td>1</td><td>0</td></tr></tbody></table></div>"
      ],
      "text/plain": [
       "shape: (2, 6)\n",
       "┌─────────────┬──────────┬───────────────┬─────────────────┬──────────────┬───────────────┐\n",
       "│ question_id ┆ group_id ┆ group_name_de ┆ number_varnames ┆ number_items ┆ number_labels │\n",
       "│ ---         ┆ ---      ┆ ---           ┆ ---             ┆ ---          ┆ ---           │\n",
       "│ i64         ┆ i64      ┆ str           ┆ i64             ┆ i64          ┆ i64           │\n",
       "╞═════════════╪══════════╪═══════════════╪═════════════════╪══════════════╪═══════════════╡\n",
       "│ 27937521    ┆ 0        ┆ null          ┆ 14              ┆ 1            ┆ 14            │\n",
       "│ 27937521    ┆ 1        ┆ Anderes       ┆ 1               ┆ 1            ┆ 0             │\n",
       "└─────────────┴──────────┴───────────────┴─────────────────┴──────────────┴───────────────┘"
      ]
     },
     "execution_count": 24,
     "metadata": {},
     "output_type": "execute_result"
    }
   ],
   "source": [
    "df_groups.filter(pl.col(\"question_id\") == 27937521)"
   ]
  },
  {
   "cell_type": "markdown",
   "id": "bedbe372",
   "metadata": {},
   "source": [
    "But question has multiple groups"
   ]
  },
  {
   "cell_type": "code",
   "execution_count": 25,
   "id": "b882e29a",
   "metadata": {},
   "outputs": [
    {
     "data": {
      "text/html": [
       "<div><style>\n",
       ".dataframe > thead > tr,\n",
       ".dataframe > tbody > tr {\n",
       "  text-align: right;\n",
       "  white-space: pre-wrap;\n",
       "}\n",
       "</style>\n",
       "<small>shape: (1, 7)</small><table border=\"1\" class=\"dataframe\"><thead><tr><th>text</th><th>id</th><th>absolute_position</th><th>relative_section_position</th><th>type</th><th>number_groups</th><th>page_number</th></tr><tr><td>str</td><td>i64</td><td>i64</td><td>i64</td><td>str</td><td>i64</td><td>i64</td></tr></thead><tbody><tr><td>&quot;Warum engagierst du dich bei […</td><td>27937521</td><td>8</td><td>1</td><td>&quot;CHOICE&quot;</td><td>2</td><td>2</td></tr></tbody></table></div>"
      ],
      "text/plain": [
       "shape: (1, 7)\n",
       "┌────────────────┬──────────┬───────────────┬───────────────┬────────┬───────────────┬─────────────┐\n",
       "│ text           ┆ id       ┆ absolute_posi ┆ relative_sect ┆ type   ┆ number_groups ┆ page_number │\n",
       "│ ---            ┆ ---      ┆ tion          ┆ ion_position  ┆ ---    ┆ ---           ┆ ---         │\n",
       "│ str            ┆ i64      ┆ ---           ┆ ---           ┆ str    ┆ i64           ┆ i64         │\n",
       "│                ┆          ┆ i64           ┆ i64           ┆        ┆               ┆             │\n",
       "╞════════════════╪══════════╪═══════════════╪═══════════════╪════════╪═══════════════╪═════════════╡\n",
       "│ Warum          ┆ 27937521 ┆ 8             ┆ 1             ┆ CHOICE ┆ 2             ┆ 2           │\n",
       "│ engagierst du  ┆          ┆               ┆               ┆        ┆               ┆             │\n",
       "│ dich bei […    ┆          ┆               ┆               ┆        ┆               ┆             │\n",
       "└────────────────┴──────────┴───────────────┴───────────────┴────────┴───────────────┴─────────────┘"
      ]
     },
     "execution_count": 25,
     "metadata": {},
     "output_type": "execute_result"
    }
   ],
   "source": [
    "df.filter(pl.col(\"id\") == 27937521)"
   ]
  },
  {
   "cell_type": "markdown",
   "id": "607bae78",
   "metadata": {},
   "source": [
    "The second one is an open input type"
   ]
  },
  {
   "cell_type": "code",
   "execution_count": 26,
   "id": "bf375558",
   "metadata": {},
   "outputs": [
    {
     "data": {
      "text/html": [
       "<div><style>\n",
       ".dataframe > thead > tr,\n",
       ".dataframe > tbody > tr {\n",
       "  text-align: right;\n",
       "  white-space: pre-wrap;\n",
       "}\n",
       "</style>\n",
       "<small>shape: (2, 4)</small><table border=\"1\" class=\"dataframe\"><thead><tr><th>question_id</th><th>item_id</th><th>item_name_de</th><th>input_type</th></tr><tr><td>i64</td><td>str</td><td>str</td><td>str</td></tr></thead><tbody><tr><td>27937521</td><td>&quot;V01_4bd0b717716e648690c1713cdf…</td><td>null</td><td>null</td></tr><tr><td>27937521</td><td>&quot;V01_30a569a5c44e6c5b773fd26251…</td><td>null</td><td>&quot;SINGLELINE&quot;</td></tr></tbody></table></div>"
      ],
      "text/plain": [
       "shape: (2, 4)\n",
       "┌─────────────┬─────────────────────────────────┬──────────────┬────────────┐\n",
       "│ question_id ┆ item_id                         ┆ item_name_de ┆ input_type │\n",
       "│ ---         ┆ ---                             ┆ ---          ┆ ---        │\n",
       "│ i64         ┆ str                             ┆ str          ┆ str        │\n",
       "╞═════════════╪═════════════════════════════════╪══════════════╪════════════╡\n",
       "│ 27937521    ┆ V01_4bd0b717716e648690c1713cdf… ┆ null         ┆ null       │\n",
       "│ 27937521    ┆ V01_30a569a5c44e6c5b773fd26251… ┆ null         ┆ SINGLELINE │\n",
       "└─────────────┴─────────────────────────────────┴──────────────┴────────────┘"
      ]
     },
     "execution_count": 26,
     "metadata": {},
     "output_type": "execute_result"
    }
   ],
   "source": [
    "df_items.filter(pl.col(\"question_id\") == 27937521)"
   ]
  },
  {
   "cell_type": "markdown",
   "id": "77334f9c",
   "metadata": {},
   "source": [
    "#### Groups: More than one item"
   ]
  },
  {
   "cell_type": "code",
   "execution_count": 27,
   "id": "2a82fd17",
   "metadata": {},
   "outputs": [
    {
     "data": {
      "text/html": [
       "<div><style>\n",
       ".dataframe > thead > tr,\n",
       ".dataframe > tbody > tr {\n",
       "  text-align: right;\n",
       "  white-space: pre-wrap;\n",
       "}\n",
       "</style>\n",
       "<small>shape: (1, 6)</small><table border=\"1\" class=\"dataframe\"><thead><tr><th>question_id</th><th>group_id</th><th>group_name_de</th><th>number_varnames</th><th>number_items</th><th>number_labels</th></tr><tr><td>i64</td><td>i64</td><td>str</td><td>i64</td><td>i64</td><td>i64</td></tr></thead><tbody><tr><td>27937509</td><td>0</td><td>null</td><td>14</td><td>14</td><td>6</td></tr></tbody></table></div>"
      ],
      "text/plain": [
       "shape: (1, 6)\n",
       "┌─────────────┬──────────┬───────────────┬─────────────────┬──────────────┬───────────────┐\n",
       "│ question_id ┆ group_id ┆ group_name_de ┆ number_varnames ┆ number_items ┆ number_labels │\n",
       "│ ---         ┆ ---      ┆ ---           ┆ ---             ┆ ---          ┆ ---           │\n",
       "│ i64         ┆ i64      ┆ str           ┆ i64             ┆ i64          ┆ i64           │\n",
       "╞═════════════╪══════════╪═══════════════╪═════════════════╪══════════════╪═══════════════╡\n",
       "│ 27937509    ┆ 0        ┆ null          ┆ 14              ┆ 14           ┆ 6             │\n",
       "└─────────────┴──────────┴───────────────┴─────────────────┴──────────────┴───────────────┘"
      ]
     },
     "execution_count": 27,
     "metadata": {},
     "output_type": "execute_result"
    }
   ],
   "source": [
    "df_groups.filter(pl.col(\"number_items\")>1)"
   ]
  },
  {
   "cell_type": "markdown",
   "id": "806475dd",
   "metadata": {},
   "source": [
    "##### Multiple Items means its a matrix and each item equals a variable"
   ]
  },
  {
   "cell_type": "code",
   "execution_count": 28,
   "id": "17bc9bb0",
   "metadata": {},
   "outputs": [
    {
     "data": {
      "text/html": [
       "<div><style>\n",
       ".dataframe > thead > tr,\n",
       ".dataframe > tbody > tr {\n",
       "  text-align: right;\n",
       "  white-space: pre-wrap;\n",
       "}\n",
       "</style>\n",
       "<small>shape: (14, 4)</small><table border=\"1\" class=\"dataframe\"><thead><tr><th>question_id</th><th>item_id</th><th>item_name_de</th><th>input_type</th></tr><tr><td>i64</td><td>str</td><td>str</td><td>str</td></tr></thead><tbody><tr><td>27937509</td><td>&quot;V01_244c5b063ac9501b821a52eae3…</td><td>&quot;Ich habe Bedenken, ob ich den …</td><td>null</td></tr><tr><td>27937509</td><td>&quot;V01_00c4a147de0511441bd9301c5a…</td><td>&quot;Ich merke, dass ich im Laufe d…</td><td>null</td></tr><tr><td>27937509</td><td>&quot;V01_a14946f573506698e725fbd0da…</td><td>&quot;Bei [U25] kann ich mich auspro…</td><td>null</td></tr><tr><td>27937509</td><td>&quot;V01_01fcfce935537bf09346dd7681…</td><td>&quot;Ich habe das Gefühl, dass ich …</td><td>null</td></tr><tr><td>27937509</td><td>&quot;V01_cdcaf7020652995e65b68f27aa…</td><td>&quot;Es war eine gute Entscheidung …</td><td>null</td></tr><tr><td>&hellip;</td><td>&hellip;</td><td>&hellip;</td><td>&hellip;</td></tr><tr><td>27937509</td><td>&quot;V01_f78a72528d5610e26f392e2f69…</td><td>&quot;Durch mein Engagement bei [U25…</td><td>null</td></tr><tr><td>27937509</td><td>&quot;V01_6903bf46ad0de46133ed26f3c5…</td><td>&quot;Ich gehe aufgrund der Erfahrun…</td><td>null</td></tr><tr><td>27937509</td><td>&quot;V01_6e8ff276bf9178e68c4d5a35c2…</td><td>&quot;Falls ich einmal nicht weiterk…</td><td>null</td></tr><tr><td>27937509</td><td>&quot;V01_052d379cb8d5b25343955c9e8a…</td><td>&quot;Die Peer-Ausbildung [U25] hat …</td><td>null</td></tr><tr><td>27937509</td><td>&quot;V01_ce011933aea94ba1806e0a7585…</td><td>&quot;Bei [U25] setzt ich mich auch …</td><td>null</td></tr></tbody></table></div>"
      ],
      "text/plain": [
       "shape: (14, 4)\n",
       "┌─────────────┬─────────────────────────────────┬─────────────────────────────────┬────────────┐\n",
       "│ question_id ┆ item_id                         ┆ item_name_de                    ┆ input_type │\n",
       "│ ---         ┆ ---                             ┆ ---                             ┆ ---        │\n",
       "│ i64         ┆ str                             ┆ str                             ┆ str        │\n",
       "╞═════════════╪═════════════════════════════════╪═════════════════════════════════╪════════════╡\n",
       "│ 27937509    ┆ V01_244c5b063ac9501b821a52eae3… ┆ Ich habe Bedenken, ob ich den … ┆ null       │\n",
       "│ 27937509    ┆ V01_00c4a147de0511441bd9301c5a… ┆ Ich merke, dass ich im Laufe d… ┆ null       │\n",
       "│ 27937509    ┆ V01_a14946f573506698e725fbd0da… ┆ Bei [U25] kann ich mich auspro… ┆ null       │\n",
       "│ 27937509    ┆ V01_01fcfce935537bf09346dd7681… ┆ Ich habe das Gefühl, dass ich … ┆ null       │\n",
       "│ 27937509    ┆ V01_cdcaf7020652995e65b68f27aa… ┆ Es war eine gute Entscheidung … ┆ null       │\n",
       "│ …           ┆ …                               ┆ …                               ┆ …          │\n",
       "│ 27937509    ┆ V01_f78a72528d5610e26f392e2f69… ┆ Durch mein Engagement bei [U25… ┆ null       │\n",
       "│ 27937509    ┆ V01_6903bf46ad0de46133ed26f3c5… ┆ Ich gehe aufgrund der Erfahrun… ┆ null       │\n",
       "│ 27937509    ┆ V01_6e8ff276bf9178e68c4d5a35c2… ┆ Falls ich einmal nicht weiterk… ┆ null       │\n",
       "│ 27937509    ┆ V01_052d379cb8d5b25343955c9e8a… ┆ Die Peer-Ausbildung [U25] hat … ┆ null       │\n",
       "│ 27937509    ┆ V01_ce011933aea94ba1806e0a7585… ┆ Bei [U25] setzt ich mich auch … ┆ null       │\n",
       "└─────────────┴─────────────────────────────────┴─────────────────────────────────┴────────────┘"
      ]
     },
     "execution_count": 28,
     "metadata": {},
     "output_type": "execute_result"
    }
   ],
   "source": [
    "df_items.filter(pl.col(\"question_id\") == 27937509)"
   ]
  },
  {
   "cell_type": "code",
   "execution_count": 29,
   "id": "5c170fdc",
   "metadata": {},
   "outputs": [
    {
     "data": {
      "text/plain": [
       "'Nachfolgend findest du einige Aussagen zu [U25]. Bitte bewerte diese auf der Skala:'"
      ]
     },
     "execution_count": 29,
     "metadata": {},
     "output_type": "execute_result"
    }
   ],
   "source": [
    "str(df.filter(pl.col(\"id\") == 27937509)[\"text\"][0])"
   ]
  },
  {
   "cell_type": "code",
   "execution_count": 30,
   "id": "a10f2a62",
   "metadata": {},
   "outputs": [
    {
     "data": {
      "text/plain": [
       "'MATRIX'"
      ]
     },
     "execution_count": 30,
     "metadata": {},
     "output_type": "execute_result"
    }
   ],
   "source": [
    "str(df.filter(pl.col(\"id\") == 27937509)[\"type\"][0])"
   ]
  },
  {
   "cell_type": "code",
   "execution_count": 31,
   "id": "b01e167f",
   "metadata": {},
   "outputs": [
    {
     "data": {
      "text/html": [
       "<div><style>\n",
       ".dataframe > thead > tr,\n",
       ".dataframe > tbody > tr {\n",
       "  text-align: right;\n",
       "  white-space: pre-wrap;\n",
       "}\n",
       "</style>\n",
       "<small>shape: (2, 4)</small><table border=\"1\" class=\"dataframe\"><thead><tr><th>question_id</th><th>item_id</th><th>item_name_de</th><th>input_type</th></tr><tr><td>i64</td><td>str</td><td>str</td><td>str</td></tr></thead><tbody><tr><td>27937521</td><td>&quot;V01_4bd0b717716e648690c1713cdf…</td><td>null</td><td>null</td></tr><tr><td>27937521</td><td>&quot;V01_30a569a5c44e6c5b773fd26251…</td><td>null</td><td>&quot;SINGLELINE&quot;</td></tr></tbody></table></div>"
      ],
      "text/plain": [
       "shape: (2, 4)\n",
       "┌─────────────┬─────────────────────────────────┬──────────────┬────────────┐\n",
       "│ question_id ┆ item_id                         ┆ item_name_de ┆ input_type │\n",
       "│ ---         ┆ ---                             ┆ ---          ┆ ---        │\n",
       "│ i64         ┆ str                             ┆ str          ┆ str        │\n",
       "╞═════════════╪═════════════════════════════════╪══════════════╪════════════╡\n",
       "│ 27937521    ┆ V01_4bd0b717716e648690c1713cdf… ┆ null         ┆ null       │\n",
       "│ 27937521    ┆ V01_30a569a5c44e6c5b773fd26251… ┆ null         ┆ SINGLELINE │\n",
       "└─────────────┴─────────────────────────────────┴──────────────┴────────────┘"
      ]
     },
     "execution_count": 31,
     "metadata": {},
     "output_type": "execute_result"
    }
   ],
   "source": [
    "df_items.filter(pl.col(\"question_id\") == 27937521)"
   ]
  },
  {
   "cell_type": "markdown",
   "id": "8d455a6c",
   "metadata": {},
   "source": [
    "#### Groups: More than one label"
   ]
  },
  {
   "cell_type": "code",
   "execution_count": 32,
   "id": "37890077",
   "metadata": {},
   "outputs": [
    {
     "data": {
      "text/html": [
       "<div><style>\n",
       ".dataframe > thead > tr,\n",
       ".dataframe > tbody > tr {\n",
       "  text-align: right;\n",
       "  white-space: pre-wrap;\n",
       "}\n",
       "</style>\n",
       "<small>shape: (15, 6)</small><table border=\"1\" class=\"dataframe\"><thead><tr><th>question_id</th><th>group_id</th><th>group_name_de</th><th>number_varnames</th><th>number_items</th><th>number_labels</th></tr><tr><td>i64</td><td>i64</td><td>str</td><td>i64</td><td>i64</td><td>i64</td></tr></thead><tbody><tr><td>27937521</td><td>0</td><td>null</td><td>14</td><td>1</td><td>14</td></tr><tr><td>27937536</td><td>0</td><td>null</td><td>1</td><td>1</td><td>11</td></tr><tr><td>27937524</td><td>0</td><td>null</td><td>10</td><td>1</td><td>10</td></tr><tr><td>27937506</td><td>0</td><td>null</td><td>8</td><td>1</td><td>8</td></tr><tr><td>27937509</td><td>0</td><td>null</td><td>14</td><td>14</td><td>6</td></tr><tr><td>&hellip;</td><td>&hellip;</td><td>&hellip;</td><td>&hellip;</td><td>&hellip;</td><td>&hellip;</td></tr><tr><td>27937530</td><td>0</td><td>null</td><td>1</td><td>1</td><td>5</td></tr><tr><td>27937515</td><td>0</td><td>null</td><td>1</td><td>1</td><td>4</td></tr><tr><td>27937539</td><td>0</td><td>null</td><td>1</td><td>1</td><td>3</td></tr><tr><td>27937563</td><td>0</td><td>null</td><td>1</td><td>1</td><td>3</td></tr><tr><td>27937557</td><td>0</td><td>null</td><td>1</td><td>1</td><td>2</td></tr></tbody></table></div>"
      ],
      "text/plain": [
       "shape: (15, 6)\n",
       "┌─────────────┬──────────┬───────────────┬─────────────────┬──────────────┬───────────────┐\n",
       "│ question_id ┆ group_id ┆ group_name_de ┆ number_varnames ┆ number_items ┆ number_labels │\n",
       "│ ---         ┆ ---      ┆ ---           ┆ ---             ┆ ---          ┆ ---           │\n",
       "│ i64         ┆ i64      ┆ str           ┆ i64             ┆ i64          ┆ i64           │\n",
       "╞═════════════╪══════════╪═══════════════╪═════════════════╪══════════════╪═══════════════╡\n",
       "│ 27937521    ┆ 0        ┆ null          ┆ 14              ┆ 1            ┆ 14            │\n",
       "│ 27937536    ┆ 0        ┆ null          ┆ 1               ┆ 1            ┆ 11            │\n",
       "│ 27937524    ┆ 0        ┆ null          ┆ 10              ┆ 1            ┆ 10            │\n",
       "│ 27937506    ┆ 0        ┆ null          ┆ 8               ┆ 1            ┆ 8             │\n",
       "│ 27937509    ┆ 0        ┆ null          ┆ 14              ┆ 14           ┆ 6             │\n",
       "│ …           ┆ …        ┆ …             ┆ …               ┆ …            ┆ …             │\n",
       "│ 27937530    ┆ 0        ┆ null          ┆ 1               ┆ 1            ┆ 5             │\n",
       "│ 27937515    ┆ 0        ┆ null          ┆ 1               ┆ 1            ┆ 4             │\n",
       "│ 27937539    ┆ 0        ┆ null          ┆ 1               ┆ 1            ┆ 3             │\n",
       "│ 27937563    ┆ 0        ┆ null          ┆ 1               ┆ 1            ┆ 3             │\n",
       "│ 27937557    ┆ 0        ┆ null          ┆ 1               ┆ 1            ┆ 2             │\n",
       "└─────────────┴──────────┴───────────────┴─────────────────┴──────────────┴───────────────┘"
      ]
     },
     "execution_count": 32,
     "metadata": {},
     "output_type": "execute_result"
    }
   ],
   "source": [
    "df_groups.filter(pl.col(\"number_labels\")>1).sort(\"number_labels\", descending=True)"
   ]
  },
  {
   "cell_type": "markdown",
   "id": "17660fa5",
   "metadata": {},
   "source": [
    "14 Items and 6 Labels? Labels and Variables are equal though -> "
   ]
  },
  {
   "cell_type": "code",
   "execution_count": 33,
   "id": "a0e11711",
   "metadata": {},
   "outputs": [
    {
     "data": {
      "text/html": [
       "<div><style>\n",
       ".dataframe > thead > tr,\n",
       ".dataframe > tbody > tr {\n",
       "  text-align: right;\n",
       "  white-space: pre-wrap;\n",
       "}\n",
       "</style>\n",
       "<small>shape: (1, 7)</small><table border=\"1\" class=\"dataframe\"><thead><tr><th>text</th><th>id</th><th>absolute_position</th><th>relative_section_position</th><th>type</th><th>number_groups</th><th>page_number</th></tr><tr><td>str</td><td>i64</td><td>i64</td><td>i64</td><td>str</td><td>i64</td><td>i64</td></tr></thead><tbody><tr><td>&quot;Nachfolgend findest du einige …</td><td>27937509</td><td>4</td><td>5</td><td>&quot;MATRIX&quot;</td><td>1</td><td>1</td></tr></tbody></table></div>"
      ],
      "text/plain": [
       "shape: (1, 7)\n",
       "┌────────────────┬──────────┬───────────────┬───────────────┬────────┬───────────────┬─────────────┐\n",
       "│ text           ┆ id       ┆ absolute_posi ┆ relative_sect ┆ type   ┆ number_groups ┆ page_number │\n",
       "│ ---            ┆ ---      ┆ tion          ┆ ion_position  ┆ ---    ┆ ---           ┆ ---         │\n",
       "│ str            ┆ i64      ┆ ---           ┆ ---           ┆ str    ┆ i64           ┆ i64         │\n",
       "│                ┆          ┆ i64           ┆ i64           ┆        ┆               ┆             │\n",
       "╞════════════════╪══════════╪═══════════════╪═══════════════╪════════╪═══════════════╪═════════════╡\n",
       "│ Nachfolgend    ┆ 27937509 ┆ 4             ┆ 5             ┆ MATRIX ┆ 1             ┆ 1           │\n",
       "│ findest du     ┆          ┆               ┆               ┆        ┆               ┆             │\n",
       "│ einige …       ┆          ┆               ┆               ┆        ┆               ┆             │\n",
       "└────────────────┴──────────┴───────────────┴───────────────┴────────┴───────────────┴─────────────┘"
      ]
     },
     "execution_count": 33,
     "metadata": {},
     "output_type": "execute_result"
    }
   ],
   "source": [
    "df.filter(pl.col(\"id\") == 27937509)"
   ]
  },
  {
   "cell_type": "code",
   "execution_count": null,
   "id": "3428d1ce",
   "metadata": {},
   "outputs": [
    {
     "data": {
      "text/plain": [
       "'shape: (1, 7)\\n┌────────────────┬──────────┬───────────────┬───────────────┬────────┬───────────────┬─────────────┐\\n│ text           ┆ id       ┆ absolute_posi ┆ relative_sect ┆ type   ┆ number_groups ┆ page_number │\\n│ ---            ┆ ---      ┆ tion          ┆ ion_position  ┆ ---    ┆ ---           ┆ ---         │\\n│ str            ┆ i64      ┆ ---           ┆ ---           ┆ str    ┆ i64           ┆ i64         │\\n│                ┆          ┆ i64           ┆ i64           ┆        ┆               ┆             │\\n╞════════════════╪══════════╪═══════════════╪═══════════════╪════════╪═══════════════╪═════════════╡\\n│ Dein           ┆ 27937548 ┆ 16            ┆ 2             ┆ CHOICE ┆ 2             ┆ 3           │\\n│ Geschlecht:    ┆          ┆               ┆               ┆        ┆               ┆             │\\n└────────────────┴──────────┴───────────────┴───────────────┴────────┴───────────────┴─────────────┘'"
      ]
     },
     "execution_count": 82,
     "metadata": {},
     "output_type": "execute_result"
    }
   ],
   "source": [
    "str(df.filter(pl.col(\"id\") == 27937509)[\"text\"][0])"
   ]
  },
  {
   "cell_type": "code",
   "execution_count": 80,
   "id": "12acdea6",
   "metadata": {},
   "outputs": [
    {
     "data": {
      "text/plain": [
       "{'id': 27937575,\n",
       " 'pollId': 1850964,\n",
       " 'pageId': 8134161,\n",
       " 'pagePosition': 0,\n",
       " 'position': 6,\n",
       " 'question': {'de': 'Wie viel Zeit verbringst du pro Monat mit [U25]?'},\n",
       " 'description': {'de': 'Wir wissen, dass dies schwanken kann - daher bitten wir dich eine Spanne anzugeben - wie viele Stunden sind es mindestens und wie viele maximal?'},\n",
       " 'anonym': False,\n",
       " 'mandatory': False,\n",
       " 'type': 'INPUT',\n",
       " 'groups': [{'name': {'de': 'Mindeste Stundenanzahl pro Monat:'},\n",
       "   'labels': [],\n",
       "   'range': [0, 1000000, 1],\n",
       "   'varnames': ['V13'],\n",
       "   'codes': [],\n",
       "   'items': [{'id': 'V01_8a4c847bd49a0c3b0bc0c3ebd0f80c20',\n",
       "     'name': {'de': 'Mindeste Stundenanzahl pro Monat:'}}],\n",
       "   'inputType': 'INTEGER'},\n",
       "  {'name': {'de': 'Maximale Stundenanzahl pro Monat:'},\n",
       "   'labels': [],\n",
       "   'range': [0, 1000000, 1],\n",
       "   'varnames': ['V72'],\n",
       "   'codes': [],\n",
       "   'items': [{'id': 'V01_4abaeadfc3bbe1bc14338fd1d3ff4ded',\n",
       "     'name': {'de': 'Maximale Stundenanzahl pro Monat:'}}],\n",
       "   'inputType': 'INTEGER'}]}"
      ]
     },
     "execution_count": 80,
     "metadata": {},
     "output_type": "execute_result"
    }
   ],
   "source": [
    "questions[6]"
   ]
  },
  {
   "cell_type": "markdown",
   "id": "b504fa6f",
   "metadata": {},
   "source": [
    "Labels do not equals variables?"
   ]
  },
  {
   "cell_type": "code",
   "execution_count": 36,
   "id": "30458637",
   "metadata": {},
   "outputs": [
    {
     "data": {
      "text/html": [
       "<div><style>\n",
       ".dataframe > thead > tr,\n",
       ".dataframe > tbody > tr {\n",
       "  text-align: right;\n",
       "  white-space: pre-wrap;\n",
       "}\n",
       "</style>\n",
       "<small>shape: (24, 6)</small><table border=\"1\" class=\"dataframe\"><thead><tr><th>question_id</th><th>group_id</th><th>group_name_de</th><th>number_varnames</th><th>number_items</th><th>number_labels</th></tr><tr><td>i64</td><td>i64</td><td>str</td><td>i64</td><td>i64</td><td>i64</td></tr></thead><tbody><tr><td>27937536</td><td>0</td><td>null</td><td>1</td><td>1</td><td>11</td></tr><tr><td>27937509</td><td>0</td><td>null</td><td>14</td><td>14</td><td>6</td></tr><tr><td>27937554</td><td>0</td><td>null</td><td>1</td><td>1</td><td>6</td></tr><tr><td>27937503</td><td>0</td><td>null</td><td>1</td><td>1</td><td>5</td></tr><tr><td>27937512</td><td>0</td><td>null</td><td>1</td><td>1</td><td>5</td></tr><tr><td>&hellip;</td><td>&hellip;</td><td>&hellip;</td><td>&hellip;</td><td>&hellip;</td><td>&hellip;</td></tr><tr><td>27937545</td><td>0</td><td>null</td><td>1</td><td>1</td><td>0</td></tr><tr><td>27937548</td><td>1</td><td>null</td><td>1</td><td>1</td><td>0</td></tr><tr><td>27937551</td><td>0</td><td>null</td><td>1</td><td>1</td><td>0</td></tr><tr><td>27937560</td><td>0</td><td>null</td><td>1</td><td>1</td><td>0</td></tr><tr><td>27937566</td><td>0</td><td>null</td><td>1</td><td>1</td><td>0</td></tr></tbody></table></div>"
      ],
      "text/plain": [
       "shape: (24, 6)\n",
       "┌─────────────┬──────────┬───────────────┬─────────────────┬──────────────┬───────────────┐\n",
       "│ question_id ┆ group_id ┆ group_name_de ┆ number_varnames ┆ number_items ┆ number_labels │\n",
       "│ ---         ┆ ---      ┆ ---           ┆ ---             ┆ ---          ┆ ---           │\n",
       "│ i64         ┆ i64      ┆ str           ┆ i64             ┆ i64          ┆ i64           │\n",
       "╞═════════════╪══════════╪═══════════════╪═════════════════╪══════════════╪═══════════════╡\n",
       "│ 27937536    ┆ 0        ┆ null          ┆ 1               ┆ 1            ┆ 11            │\n",
       "│ 27937509    ┆ 0        ┆ null          ┆ 14              ┆ 14           ┆ 6             │\n",
       "│ 27937554    ┆ 0        ┆ null          ┆ 1               ┆ 1            ┆ 6             │\n",
       "│ 27937503    ┆ 0        ┆ null          ┆ 1               ┆ 1            ┆ 5             │\n",
       "│ 27937512    ┆ 0        ┆ null          ┆ 1               ┆ 1            ┆ 5             │\n",
       "│ …           ┆ …        ┆ …             ┆ …               ┆ …            ┆ …             │\n",
       "│ 27937545    ┆ 0        ┆ null          ┆ 1               ┆ 1            ┆ 0             │\n",
       "│ 27937548    ┆ 1        ┆ null          ┆ 1               ┆ 1            ┆ 0             │\n",
       "│ 27937551    ┆ 0        ┆ null          ┆ 1               ┆ 1            ┆ 0             │\n",
       "│ 27937560    ┆ 0        ┆ null          ┆ 1               ┆ 1            ┆ 0             │\n",
       "│ 27937566    ┆ 0        ┆ null          ┆ 1               ┆ 1            ┆ 0             │\n",
       "└─────────────┴──────────┴───────────────┴─────────────────┴──────────────┴───────────────┘"
      ]
     },
     "execution_count": 36,
     "metadata": {},
     "output_type": "execute_result"
    }
   ],
   "source": [
    "df_groups.filter(pl.col(\"number_labels\") != pl.col(\"number_varnames\")).sort(\"number_labels\", descending=True)"
   ]
  },
  {
   "cell_type": "code",
   "execution_count": 37,
   "id": "818b032f",
   "metadata": {},
   "outputs": [
    {
     "data": {
      "text/html": [
       "<div><style>\n",
       ".dataframe > thead > tr,\n",
       ".dataframe > tbody > tr {\n",
       "  text-align: right;\n",
       "  white-space: pre-wrap;\n",
       "}\n",
       "</style>\n",
       "<small>shape: (1, 7)</small><table border=\"1\" class=\"dataframe\"><thead><tr><th>text</th><th>id</th><th>absolute_position</th><th>relative_section_position</th><th>type</th><th>number_groups</th><th>page_number</th></tr><tr><td>str</td><td>i64</td><td>i64</td><td>i64</td><td>str</td><td>i64</td><td>i64</td></tr></thead><tbody><tr><td>&quot;Zu welchem Standort gehörst du…</td><td>27937536</td><td>15</td><td>1</td><td>&quot;CHOICE&quot;</td><td>1</td><td>3</td></tr></tbody></table></div>"
      ],
      "text/plain": [
       "shape: (1, 7)\n",
       "┌────────────────┬──────────┬───────────────┬───────────────┬────────┬───────────────┬─────────────┐\n",
       "│ text           ┆ id       ┆ absolute_posi ┆ relative_sect ┆ type   ┆ number_groups ┆ page_number │\n",
       "│ ---            ┆ ---      ┆ tion          ┆ ion_position  ┆ ---    ┆ ---           ┆ ---         │\n",
       "│ str            ┆ i64      ┆ ---           ┆ ---           ┆ str    ┆ i64           ┆ i64         │\n",
       "│                ┆          ┆ i64           ┆ i64           ┆        ┆               ┆             │\n",
       "╞════════════════╪══════════╪═══════════════╪═══════════════╪════════╪═══════════════╪═════════════╡\n",
       "│ Zu welchem     ┆ 27937536 ┆ 15            ┆ 1             ┆ CHOICE ┆ 1             ┆ 3           │\n",
       "│ Standort       ┆          ┆               ┆               ┆        ┆               ┆             │\n",
       "│ gehörst du…    ┆          ┆               ┆               ┆        ┆               ┆             │\n",
       "└────────────────┴──────────┴───────────────┴───────────────┴────────┴───────────────┴─────────────┘"
      ]
     },
     "execution_count": 37,
     "metadata": {},
     "output_type": "execute_result"
    }
   ],
   "source": [
    "df.filter(pl.col(\"id\") == 27937536)"
   ]
  },
  {
   "cell_type": "markdown",
   "id": "94b83e37",
   "metadata": {},
   "source": [
    "When theres is one variable but multiple lables: single choice?"
   ]
  },
  {
   "cell_type": "code",
   "execution_count": 83,
   "id": "f2f37869",
   "metadata": {},
   "outputs": [
    {
     "data": {
      "text/html": [
       "<div><style>\n",
       ".dataframe > thead > tr,\n",
       ".dataframe > tbody > tr {\n",
       "  text-align: right;\n",
       "  white-space: pre-wrap;\n",
       "}\n",
       "</style>\n",
       "<small>shape: (1, 7)</small><table border=\"1\" class=\"dataframe\"><thead><tr><th>text</th><th>id</th><th>absolute_position</th><th>relative_section_position</th><th>type</th><th>number_groups</th><th>page_number</th></tr><tr><td>str</td><td>i64</td><td>i64</td><td>i64</td><td>str</td><td>i64</td><td>i64</td></tr></thead><tbody><tr><td>&quot;Dein Geschlecht:&quot;</td><td>27937548</td><td>16</td><td>2</td><td>&quot;CHOICE&quot;</td><td>2</td><td>3</td></tr></tbody></table></div>"
      ],
      "text/plain": [
       "shape: (1, 7)\n",
       "┌────────────────┬──────────┬───────────────┬───────────────┬────────┬───────────────┬─────────────┐\n",
       "│ text           ┆ id       ┆ absolute_posi ┆ relative_sect ┆ type   ┆ number_groups ┆ page_number │\n",
       "│ ---            ┆ ---      ┆ tion          ┆ ion_position  ┆ ---    ┆ ---           ┆ ---         │\n",
       "│ str            ┆ i64      ┆ ---           ┆ ---           ┆ str    ┆ i64           ┆ i64         │\n",
       "│                ┆          ┆ i64           ┆ i64           ┆        ┆               ┆             │\n",
       "╞════════════════╪══════════╪═══════════════╪═══════════════╪════════╪═══════════════╪═════════════╡\n",
       "│ Dein           ┆ 27937548 ┆ 16            ┆ 2             ┆ CHOICE ┆ 2             ┆ 3           │\n",
       "│ Geschlecht:    ┆          ┆               ┆               ┆        ┆               ┆             │\n",
       "└────────────────┴──────────┴───────────────┴───────────────┴────────┴───────────────┴─────────────┘"
      ]
     },
     "execution_count": 83,
     "metadata": {},
     "output_type": "execute_result"
    }
   ],
   "source": [
    "df.filter(pl.col(\"id\") == 27937548)"
   ]
  },
  {
   "cell_type": "code",
   "execution_count": 84,
   "id": "286ffd77",
   "metadata": {},
   "outputs": [
    {
     "data": {
      "text/plain": [
       "{'id': 27937548,\n",
       " 'pollId': 1850964,\n",
       " 'pageId': 8134167,\n",
       " 'pagePosition': 2,\n",
       " 'position': 2,\n",
       " 'question': {'de': 'Dein Geschlecht:'},\n",
       " 'description': {},\n",
       " 'anonym': False,\n",
       " 'mandatory': False,\n",
       " 'type': 'CHOICE',\n",
       " 'groups': [{'name': [],\n",
       "   'labels': [{'de': 'nicht-binär'},\n",
       "    {'de': 'weiblich'},\n",
       "    {'de': 'männlich'},\n",
       "    {'de': 'kein Geschlecht'},\n",
       "    [],\n",
       "    {'de': 'keine Angabe'}],\n",
       "   'range': [],\n",
       "   'varnames': ['V59', 'V67', 'V68', 'V69', 'V70', 'V71'],\n",
       "   'codes': ['1', '1', '1', '1', '1', '1'],\n",
       "   'items': [{'id': 'V01_c9fa4a41056e28a34f8ceb3d4e3a7641', 'name': []}]},\n",
       "  {'name': [],\n",
       "   'labels': [],\n",
       "   'range': [],\n",
       "   'varnames': ['V70.1'],\n",
       "   'codes': ['1'],\n",
       "   'items': [{'id': 'V01_30314feba570c50d4539d91e9623ae41', 'name': []}],\n",
       "   'inputType': 'SINGLELINE'}]}"
      ]
     },
     "execution_count": 84,
     "metadata": {},
     "output_type": "execute_result"
    }
   ],
   "source": [
    "questions[15]"
   ]
  },
  {
   "cell_type": "markdown",
   "id": "2187af33",
   "metadata": {},
   "source": [
    "## Results"
   ]
  },
  {
   "cell_type": "code",
   "execution_count": 40,
   "id": "fdjxkvfzkk7",
   "metadata": {},
   "outputs": [
    {
     "data": {
      "text/plain": [
       "{'questionId': 27937521,\n",
       " 'question': '<strong><span style=\"font-size:24px;\">Warum engagierst du dich bei [U25] ?</span></strong>',\n",
       " 'description': '(Mehrfachnennung möglich)',\n",
       " 'summary': {'responses': 86,\n",
       "  'seen': 86,\n",
       "  'answered': 79,\n",
       "  'ignored': 7,\n",
       "  'noAnswer': None,\n",
       "  'answers': 548},\n",
       " 'groups': [{'name': '',\n",
       "   'labels': ['Ich möchte anderen helfen.',\n",
       "    'Ich möchte anderen weitergeben, was ich selbst in psychischen Krisen gelernt habe.',\n",
       "    'Ich finde das Thema Suizidprävention gesellschaftlich wichtig.',\n",
       "    'Ich möchte mit meinem Engagement etwas Sinnvolles tun.',\n",
       "    'Ich möchte mich persönlich weiterentwickeln.',\n",
       "    'Ich möchte im Bereich psychische Gesundheit dazulernen.',\n",
       "    'Ich sehe das Engagement als Möglichkeit zur Berufsorientierung.',\n",
       "    'Ich sehe mein Engagement bei [U25] als relevante Zusatzqualifikation im Lebenslauf.',\n",
       "    'Ich schätze bei [U25] soziale Kontakte zu Peers und Koordinator*innen.',\n",
       "    'Anderes',\n",
       "    'Ich fühle mich zur Ausübung eines ehrenamtlichen Engagements verpflichtet.',\n",
       "    '[U25] entspricht meinen persönlichen Werten.',\n",
       "    'Ich engagiere mich, weil [U25] ohne Freiwillige nicht funktionieren würde.',\n",
       "    'Ich sehe es als Möglichkeit mich auszuprobieren. '],\n",
       "   'range': [],\n",
       "   'values': [1, 2, 3, 4, 5, 6, 7, 8, 9, 10, 11, 12, 13, 14],\n",
       "   'weights': [1, 1, 1, 1, 1, 1, 1, 1, 1, 1, 1, 1, 1, 1],\n",
       "   'points': [0, 0, 0, 0, 0, 0, 0, 0, 0, 0, 0, 0, 0, 0],\n",
       "   'varnames': ['V15',\n",
       "    'V16',\n",
       "    'V17',\n",
       "    'V18',\n",
       "    'V20',\n",
       "    'V21',\n",
       "    'V22',\n",
       "    'V23',\n",
       "    'V24',\n",
       "    'V42',\n",
       "    'V25',\n",
       "    'V26',\n",
       "    'V40',\n",
       "    'V41'],\n",
       "   'codes': ['1',\n",
       "    '1',\n",
       "    '1',\n",
       "    '1',\n",
       "    '1',\n",
       "    '1',\n",
       "    '1',\n",
       "    '1',\n",
       "    '1',\n",
       "    '1',\n",
       "    '1',\n",
       "    '1',\n",
       "    '1',\n",
       "    '1'],\n",
       "   'items': [{'id': 'V01_4bd0b717716e648690c1713cdf16f929',\n",
       "     'name': '',\n",
       "     'freq': {'abs': [72, 27, 74, 68, 40, 50, 28, 38, 45, 5, 3, 44, 31, 19],\n",
       "      'rel': [91.14,\n",
       "       34.18,\n",
       "       93.67,\n",
       "       86.08,\n",
       "       50.63,\n",
       "       63.29,\n",
       "       35.44,\n",
       "       48.1,\n",
       "       56.96,\n",
       "       6.33,\n",
       "       3.8,\n",
       "       55.7,\n",
       "       39.24,\n",
       "       24.05],\n",
       "      'relToAnswers': [13.24,\n",
       "       4.96,\n",
       "       13.6,\n",
       "       12.5,\n",
       "       7.35,\n",
       "       9.19,\n",
       "       5.15,\n",
       "       6.99,\n",
       "       8.27,\n",
       "       0.92,\n",
       "       0.55,\n",
       "       8.09,\n",
       "       5.7,\n",
       "       3.49]},\n",
       "     'stats': {'values': {'sum': 3305,\n",
       "       'mean': 6.08,\n",
       "       'med': 5,\n",
       "       'var': 15.22,\n",
       "       'dev': 3.9,\n",
       "       'min': 1,\n",
       "       'max': 14},\n",
       "      'points': {'sum': 0,\n",
       "       'mean': 0,\n",
       "       'med': 0,\n",
       "       'var': 0,\n",
       "       'dev': 0,\n",
       "       'min': 0,\n",
       "       'max': 0}},\n",
       "     'summary': {'responses': None,\n",
       "      'seen': None,\n",
       "      'answered': 79,\n",
       "      'ignored': None,\n",
       "      'noAnswer': None,\n",
       "      'answers': 544}}]},\n",
       "  {'name': 'Anderes',\n",
       "   'labels': ['angehörigen durch suizid verloren und möchte deshalb anderen menschen mit dem thema helfen',\n",
       "    'es fühlt sich gut an menschen etwas zurück zu geben, denen es aktuell schlechter geht - ich selbst verspüre oft dankbarkeit, wie gut es mir doch geht. meine tätigkeit bei u25 erinnert mich daran dankbar zu sein!',\n",
       "    'ich möchte dem neoliberalen leistungsdenken, welches viele kinder und jugendliche belastet, etwas entgegensetzen',\n",
       "    'ich möchte jugendlichen zeigen, dass sie in schwierigen zeiten nicht alleine sind'],\n",
       "   'range': [],\n",
       "   'values': [1, 2, 3, 4],\n",
       "   'weights': [1, 1, 1, 1],\n",
       "   'points': [],\n",
       "   'varnames': ['V42.1'],\n",
       "   'codes': ['1'],\n",
       "   'items': [{'id': 'V01_30a569a5c44e6c5b773fd26251faa0eb',\n",
       "     'name': '',\n",
       "     'freq': {'abs': [1, 1, 1, 1],\n",
       "      'rel': [1.27, 1.27, 1.27, 1.27],\n",
       "      'relToAnswers': [25, 25, 25, 25]},\n",
       "     'stats': {'values': {'sum': 10,\n",
       "       'mean': 2.5,\n",
       "       'med': 2.5,\n",
       "       'var': 1.67,\n",
       "       'dev': 1.12,\n",
       "       'min': 1,\n",
       "       'max': 4},\n",
       "      'points': []},\n",
       "     'summary': {'responses': None,\n",
       "      'seen': None,\n",
       "      'answered': 79,\n",
       "      'ignored': None,\n",
       "      'noAnswer': None,\n",
       "      'answers': 4}}]}]}"
      ]
     },
     "execution_count": 40,
     "metadata": {},
     "output_type": "execute_result"
    }
   ],
   "source": [
    "response = requests.get(f\"{BASE_URL}/polls/{poll_id}/questions/{27937521}/results\", headers=headers)\n",
    "response.raise_for_status()\n",
    "results = response.json()\n",
    "results"
   ]
  },
  {
   "cell_type": "code",
   "execution_count": 77,
   "id": "fc12f0a7",
   "metadata": {},
   "outputs": [
    {
     "data": {
      "text/plain": [
       "{'id': 27937503,\n",
       " 'pollId': 1850964,\n",
       " 'pageId': 8134161,\n",
       " 'pagePosition': 0,\n",
       " 'position': 3,\n",
       " 'question': {'de': 'Wie lange bist du schon bei [U25]?'},\n",
       " 'description': {},\n",
       " 'anonym': False,\n",
       " 'mandatory': False,\n",
       " 'type': 'CHOICE',\n",
       " 'groups': [{'name': [],\n",
       "   'labels': [{'de': 'weniger als 1 Jahr'},\n",
       "    {'de': '1-2 Jahre'},\n",
       "    {'de': '3-4 Jahre'},\n",
       "    {'de': '5-6 Jahre'},\n",
       "    {'de': 'mehr als 6 Jahre'}],\n",
       "   'range': [],\n",
       "   'varnames': ['V4'],\n",
       "   'codes': ['1', '2', '3', '4', '5'],\n",
       "   'items': [{'id': 'V01_9d2266c406d1b0cbb0f54bec41846dfd', 'name': []}]}]}"
      ]
     },
     "execution_count": 77,
     "metadata": {},
     "output_type": "execute_result"
    }
   ],
   "source": [
    "questions[1]"
   ]
  },
  {
   "cell_type": "code",
   "execution_count": 41,
   "id": "46ec0279",
   "metadata": {},
   "outputs": [],
   "source": [
    "# results[0][\"summary\"]"
   ]
  },
  {
   "cell_type": "code",
   "execution_count": 42,
   "id": "a8d5d013",
   "metadata": {},
   "outputs": [],
   "source": [
    "# results[0][\"groups\"][0]"
   ]
  },
  {
   "cell_type": "markdown",
   "id": "48457b59",
   "metadata": {},
   "source": [
    "## Legacy"
   ]
  },
  {
   "cell_type": "code",
   "execution_count": 43,
   "id": "38e16f2c",
   "metadata": {},
   "outputs": [],
   "source": [
    "response = requests.get(f\"{BASE_URL}/polls/{poll_id}/legacyResults\", headers=headers)\n",
    "response.raise_for_status()\n",
    "legacy = response.json()"
   ]
  },
  {
   "cell_type": "code",
   "execution_count": 44,
   "id": "bfa41ca2",
   "metadata": {},
   "outputs": [
    {
     "data": {
      "text/html": [
       "<div><style>\n",
       ".dataframe > thead > tr,\n",
       ".dataframe > tbody > tr {\n",
       "  text-align: right;\n",
       "  white-space: pre-wrap;\n",
       "}\n",
       "</style>\n",
       "<small>shape: (5, 89)</small><table border=\"1\" class=\"dataframe\"><thead><tr><th>vID</th><th>vANONYM</th><th>vCOMPLETED</th><th>vFINISHED</th><th>vDURATION</th><th>vQUOTE</th><th>vLANG</th><th>vSTART</th><th>vEND</th><th>vRUNTIME</th><th>vPAGETIME1</th><th>vPAGETIME2</th><th>vPAGETIME3</th><th>vDATE</th><th>V1</th><th>V2</th><th>V3</th><th>V4</th><th>V5</th><th>V6</th><th>V7</th><th>V8</th><th>V9</th><th>V10</th><th>V11</th><th>V12</th><th>V27.C1</th><th>V28.C1</th><th>V29.C1</th><th>V30.C1</th><th>V31.C1</th><th>V32.C1</th><th>V33.C1</th><th>V34.C1</th><th>V35.C1</th><th>V36.C1</th><th>V37.C1</th><th>&hellip;</th><th>V24</th><th>V25</th><th>V26</th><th>V40</th><th>V41</th><th>V42</th><th>V42.1</th><th>V43</th><th>V44</th><th>V45</th><th>V46</th><th>V47</th><th>V48</th><th>V49</th><th>V50</th><th>V51</th><th>V52</th><th>V52.1</th><th>V53</th><th>V58</th><th>V55</th><th>V56</th><th>V57</th><th>V54</th><th>V59</th><th>V67</th><th>V68</th><th>V69</th><th>V70</th><th>V71</th><th>V70.1</th><th>V60</th><th>V61</th><th>V62</th><th>V63</th><th>V64</th><th>V65</th></tr><tr><td>i64</td><td>i64</td><td>i64</td><td>i64</td><td>f64</td><td>str</td><td>str</td><td>str</td><td>str</td><td>str</td><td>i64</td><td>i64</td><td>i64</td><td>str</td><td>str</td><td>str</td><td>str</td><td>str</td><td>str</td><td>str</td><td>str</td><td>str</td><td>str</td><td>str</td><td>str</td><td>str</td><td>str</td><td>str</td><td>str</td><td>str</td><td>str</td><td>str</td><td>str</td><td>str</td><td>str</td><td>str</td><td>str</td><td>&hellip;</td><td>str</td><td>str</td><td>str</td><td>str</td><td>str</td><td>str</td><td>str</td><td>str</td><td>str</td><td>str</td><td>str</td><td>str</td><td>str</td><td>str</td><td>str</td><td>str</td><td>str</td><td>str</td><td>str</td><td>str</td><td>str</td><td>str</td><td>str</td><td>str</td><td>str</td><td>str</td><td>str</td><td>str</td><td>str</td><td>str</td><td>str</td><td>str</td><td>str</td><td>str</td><td>str</td><td>str</td><td>str</td></tr></thead><tbody><tr><td>1</td><td>1</td><td>0</td><td>0</td><td>347.67</td><td>&quot; 0%&quot;</td><td>&quot;de&quot;</td><td>&quot;2025-08-08&quot;</td><td>&quot;&quot;</td><td>&quot; 00:05:48&quot;</td><td>172</td><td>175</td><td>0</td><td>&quot;2025-08-08&quot;</td><td>&quot;&quot;</td><td>&quot;&quot;</td><td>&quot;&quot;</td><td>&quot;&quot;</td><td>&quot;&quot;</td><td>&quot;&quot;</td><td>&quot;&quot;</td><td>&quot;&quot;</td><td>&quot;&quot;</td><td>&quot;&quot;</td><td>&quot;&quot;</td><td>&quot;&quot;</td><td>&quot;&quot;</td><td>&quot;&quot;</td><td>&quot;&quot;</td><td>&quot;&quot;</td><td>&quot;&quot;</td><td>&quot;&quot;</td><td>&quot;&quot;</td><td>&quot;&quot;</td><td>&quot;&quot;</td><td>&quot;&quot;</td><td>&quot;&quot;</td><td>&hellip;</td><td>&quot;&quot;</td><td>&quot;&quot;</td><td>&quot;&quot;</td><td>&quot;&quot;</td><td>&quot;&quot;</td><td>&quot;&quot;</td><td>&quot;&quot;</td><td>&quot;&quot;</td><td>&quot;&quot;</td><td>&quot;&quot;</td><td>&quot;&quot;</td><td>&quot;&quot;</td><td>&quot;&quot;</td><td>&quot;&quot;</td><td>&quot;&quot;</td><td>&quot;&quot;</td><td>&quot;&quot;</td><td>&quot;&quot;</td><td>&quot;&quot;</td><td>&quot;&quot;</td><td>&quot;&quot;</td><td>&quot;&quot;</td><td>&quot;&quot;</td><td>&quot;&quot;</td><td>&quot;&quot;</td><td>&quot;&quot;</td><td>&quot;&quot;</td><td>&quot;&quot;</td><td>&quot;&quot;</td><td>&quot;&quot;</td><td>&quot;&quot;</td><td>&quot;&quot;</td><td>&quot;&quot;</td><td>&quot;&quot;</td><td>&quot;&quot;</td><td>&quot;&quot;</td><td>&quot;&quot;</td></tr><tr><td>2</td><td>1</td><td>0</td><td>0</td><td>14988.84</td><td>&quot; 0%&quot;</td><td>&quot;de&quot;</td><td>&quot;2025-08-11&quot;</td><td>&quot;&quot;</td><td>&quot; 04:09:49&quot;</td><td>685</td><td>7</td><td>14297</td><td>&quot;2025-08-11&quot;</td><td>&quot;&quot;</td><td>&quot;&quot;</td><td>&quot;&quot;</td><td>&quot;&quot;</td><td>&quot;&quot;</td><td>&quot;&quot;</td><td>&quot;&quot;</td><td>&quot;&quot;</td><td>&quot;&quot;</td><td>&quot;&quot;</td><td>&quot;&quot;</td><td>&quot;&quot;</td><td>&quot;&quot;</td><td>&quot;&quot;</td><td>&quot;&quot;</td><td>&quot;&quot;</td><td>&quot;&quot;</td><td>&quot;&quot;</td><td>&quot;&quot;</td><td>&quot;&quot;</td><td>&quot;&quot;</td><td>&quot;&quot;</td><td>&quot;&quot;</td><td>&hellip;</td><td>&quot;&quot;</td><td>&quot;&quot;</td><td>&quot;&quot;</td><td>&quot;&quot;</td><td>&quot;&quot;</td><td>&quot;&quot;</td><td>&quot;&quot;</td><td>&quot;&quot;</td><td>&quot;&quot;</td><td>&quot;&quot;</td><td>&quot;&quot;</td><td>&quot;&quot;</td><td>&quot;&quot;</td><td>&quot;&quot;</td><td>&quot;&quot;</td><td>&quot;&quot;</td><td>&quot;&quot;</td><td>&quot;&quot;</td><td>&quot;&quot;</td><td>&quot;&quot;</td><td>&quot;&quot;</td><td>&quot;&quot;</td><td>&quot;&quot;</td><td>&quot;&quot;</td><td>&quot;&quot;</td><td>&quot;&quot;</td><td>&quot;&quot;</td><td>&quot;&quot;</td><td>&quot;&quot;</td><td>&quot;&quot;</td><td>&quot;&quot;</td><td>&quot;&quot;</td><td>&quot;&quot;</td><td>&quot;&quot;</td><td>&quot;&quot;</td><td>&quot;&quot;</td><td>&quot;&quot;</td></tr><tr><td>3</td><td>1</td><td>1</td><td>1</td><td>239.53</td><td>&quot;95.45%&quot;</td><td>&quot;de&quot;</td><td>&quot;2025-08-12&quot;</td><td>&quot;2025-08-12&quot;</td><td>&quot; 00:04:00&quot;</td><td>126</td><td>85</td><td>28</td><td>&quot;2025-08-12&quot;</td><td>&quot;Zusammenhalt&quot;</td><td>&quot;Unterstützung&quot;</td><td>&quot;Wertschätzung&quot;</td><td>&quot;3&quot;</td><td>&quot;&quot;</td><td>&quot;&quot;</td><td>&quot;&quot;</td><td>&quot;&quot;</td><td>&quot;1&quot;</td><td>&quot;&quot;</td><td>&quot;&quot;</td><td>&quot;&quot;</td><td>&quot;3&quot;</td><td>&quot;5&quot;</td><td>&quot;6&quot;</td><td>&quot;6&quot;</td><td>&quot;4&quot;</td><td>&quot;6&quot;</td><td>&quot;6&quot;</td><td>&quot;6&quot;</td><td>&quot;6&quot;</td><td>&quot;6&quot;</td><td>&quot;4&quot;</td><td>&hellip;</td><td>&quot;1&quot;</td><td>&quot;&quot;</td><td>&quot;1&quot;</td><td>&quot;&quot;</td><td>&quot;&quot;</td><td>&quot;&quot;</td><td>&quot;&quot;</td><td>&quot;1&quot;</td><td>&quot;1&quot;</td><td>&quot;1&quot;</td><td>&quot;1&quot;</td><td>&quot;1&quot;</td><td>&quot;&quot;</td><td>&quot;1&quot;</td><td>&quot;1&quot;</td><td>&quot;1&quot;</td><td>&quot;&quot;</td><td>&quot;&quot;</td><td>&quot;2&quot;</td><td>&quot;3&quot;</td><td>&quot;8&quot;</td><td>&quot;Wenn die Person zu große eigen…</td><td>&quot;Alles gut&quot;</td><td>&quot;8&quot;</td><td>&quot;&quot;</td><td>&quot;1&quot;</td><td>&quot;&quot;</td><td>&quot;&quot;</td><td>&quot;&quot;</td><td>&quot;&quot;</td><td>&quot;&quot;</td><td>&quot;23&quot;</td><td>&quot;3&quot;</td><td>&quot;1&quot;</td><td>&quot;Nein :)&quot;</td><td>&quot;5&quot;</td><td>&quot;&quot;</td></tr><tr><td>4</td><td>1</td><td>1</td><td>1</td><td>917.07</td><td>&quot;90.91%&quot;</td><td>&quot;de&quot;</td><td>&quot;2025-08-12&quot;</td><td>&quot;2025-08-12&quot;</td><td>&quot; 00:15:18&quot;</td><td>752</td><td>136</td><td>30</td><td>&quot;2025-08-12&quot;</td><td>&quot;Wärme&quot;</td><td>&quot;Herzlichkeit&quot;</td><td>&quot;Angenommen werden&quot;</td><td>&quot;2&quot;</td><td>&quot;&quot;</td><td>&quot;&quot;</td><td>&quot;&quot;</td><td>&quot;&quot;</td><td>&quot;1&quot;</td><td>&quot;1&quot;</td><td>&quot;&quot;</td><td>&quot;&quot;</td><td>&quot;1&quot;</td><td>&quot;6&quot;</td><td>&quot;6&quot;</td><td>&quot;6&quot;</td><td>&quot;5&quot;</td><td>&quot;6&quot;</td><td>&quot;6&quot;</td><td>&quot;6&quot;</td><td>&quot;6&quot;</td><td>&quot;6&quot;</td><td>&quot;5&quot;</td><td>&hellip;</td><td>&quot;1&quot;</td><td>&quot;&quot;</td><td>&quot;1&quot;</td><td>&quot;&quot;</td><td>&quot;1&quot;</td><td>&quot;&quot;</td><td>&quot;&quot;</td><td>&quot;1&quot;</td><td>&quot;1&quot;</td><td>&quot;1&quot;</td><td>&quot;1&quot;</td><td>&quot;1&quot;</td><td>&quot;1&quot;</td><td>&quot;1&quot;</td><td>&quot;1&quot;</td><td>&quot;1&quot;</td><td>&quot;&quot;</td><td>&quot;&quot;</td><td>&quot;1&quot;</td><td>&quot;2&quot;</td><td>&quot;10&quot;</td><td>&quot;Kein U25 Standort in der Nähe …</td><td>&quot;Mehr Fortbildungen&quot;</td><td>&quot;8&quot;</td><td>&quot;&quot;</td><td>&quot;1&quot;</td><td>&quot;&quot;</td><td>&quot;&quot;</td><td>&quot;&quot;</td><td>&quot;&quot;</td><td>&quot;&quot;</td><td>&quot;23&quot;</td><td>&quot;3&quot;</td><td>&quot;1&quot;</td><td>&quot;&quot;</td><td>&quot;5&quot;</td><td>&quot;&quot;</td></tr><tr><td>5</td><td>1</td><td>1</td><td>1</td><td>938.24</td><td>&quot;77.27%&quot;</td><td>&quot;de&quot;</td><td>&quot;2025-08-12&quot;</td><td>&quot;2025-08-12&quot;</td><td>&quot; 00:15:39&quot;</td><td>492</td><td>354</td><td>93</td><td>&quot;2025-08-12&quot;</td><td>&quot;&quot;</td><td>&quot;&quot;</td><td>&quot;&quot;</td><td>&quot;2&quot;</td><td>&quot;&quot;</td><td>&quot;&quot;</td><td>&quot;&quot;</td><td>&quot;&quot;</td><td>&quot;1&quot;</td><td>&quot;&quot;</td><td>&quot;&quot;</td><td>&quot;&quot;</td><td>&quot;4&quot;</td><td>&quot;5&quot;</td><td>&quot;5&quot;</td><td>&quot;6&quot;</td><td>&quot;4&quot;</td><td>&quot;5&quot;</td><td>&quot;5&quot;</td><td>&quot;3&quot;</td><td>&quot;3&quot;</td><td>&quot;4&quot;</td><td>&quot;5&quot;</td><td>&hellip;</td><td>&quot;&quot;</td><td>&quot;1&quot;</td><td>&quot;1&quot;</td><td>&quot;&quot;</td><td>&quot;&quot;</td><td>&quot;&quot;</td><td>&quot;&quot;</td><td>&quot;1&quot;</td><td>&quot;1&quot;</td><td>&quot;1&quot;</td><td>&quot;1&quot;</td><td>&quot;&quot;</td><td>&quot;&quot;</td><td>&quot;&quot;</td><td>&quot;1&quot;</td><td>&quot;&quot;</td><td>&quot;&quot;</td><td>&quot;&quot;</td><td>&quot;3&quot;</td><td>&quot;3&quot;</td><td>&quot;7&quot;</td><td>&quot;&quot;</td><td>&quot;&quot;</td><td>&quot;8&quot;</td><td>&quot;&quot;</td><td>&quot;1&quot;</td><td>&quot;&quot;</td><td>&quot;&quot;</td><td>&quot;&quot;</td><td>&quot;&quot;</td><td>&quot;&quot;</td><td>&quot;21&quot;</td><td>&quot;3&quot;</td><td>&quot;1&quot;</td><td>&quot;&quot;</td><td>&quot;5&quot;</td><td>&quot;&quot;</td></tr></tbody></table></div>"
      ],
      "text/plain": [
       "shape: (5, 89)\n",
       "┌─────┬─────────┬────────────┬───────────┬───┬─────┬─────────┬─────┬─────┐\n",
       "│ vID ┆ vANONYM ┆ vCOMPLETED ┆ vFINISHED ┆ … ┆ V62 ┆ V63     ┆ V64 ┆ V65 │\n",
       "│ --- ┆ ---     ┆ ---        ┆ ---       ┆   ┆ --- ┆ ---     ┆ --- ┆ --- │\n",
       "│ i64 ┆ i64     ┆ i64        ┆ i64       ┆   ┆ str ┆ str     ┆ str ┆ str │\n",
       "╞═════╪═════════╪════════════╪═══════════╪═══╪═════╪═════════╪═════╪═════╡\n",
       "│ 1   ┆ 1       ┆ 0          ┆ 0         ┆ … ┆     ┆         ┆     ┆     │\n",
       "│ 2   ┆ 1       ┆ 0          ┆ 0         ┆ … ┆     ┆         ┆     ┆     │\n",
       "│ 3   ┆ 1       ┆ 1          ┆ 1         ┆ … ┆ 1   ┆ Nein :) ┆ 5   ┆     │\n",
       "│ 4   ┆ 1       ┆ 1          ┆ 1         ┆ … ┆ 1   ┆         ┆ 5   ┆     │\n",
       "│ 5   ┆ 1       ┆ 1          ┆ 1         ┆ … ┆ 1   ┆         ┆ 5   ┆     │\n",
       "└─────┴─────────┴────────────┴───────────┴───┴─────┴─────────┴─────┴─────┘"
      ]
     },
     "execution_count": 44,
     "metadata": {},
     "output_type": "execute_result"
    }
   ],
   "source": [
    "leg_df = pl.read_csv(io.StringIO(legacy[\"data\"]))\n",
    "leg_df.head()"
   ]
  },
  {
   "cell_type": "markdown",
   "id": "a7fb645a",
   "metadata": {},
   "source": [
    "This data format is not only flat with regards to the participants but groups are unnested as well."
   ]
  },
  {
   "cell_type": "code",
   "execution_count": 75,
   "id": "6735f822",
   "metadata": {},
   "outputs": [
    {
     "data": {
      "text/html": [
       "<div><style>\n",
       ".dataframe > thead > tr,\n",
       ".dataframe > tbody > tr {\n",
       "  text-align: right;\n",
       "  white-space: pre-wrap;\n",
       "}\n",
       "</style>\n",
       "<small>shape: (77, 89)</small><table border=\"1\" class=\"dataframe\"><thead><tr><th>vID</th><th>vANONYM</th><th>vCOMPLETED</th><th>vFINISHED</th><th>vDURATION</th><th>vQUOTE</th><th>vLANG</th><th>vSTART</th><th>vEND</th><th>vRUNTIME</th><th>vPAGETIME1</th><th>vPAGETIME2</th><th>vPAGETIME3</th><th>vDATE</th><th>V1</th><th>V2</th><th>V3</th><th>V4</th><th>V5</th><th>V6</th><th>V7</th><th>V8</th><th>V9</th><th>V10</th><th>V11</th><th>V12</th><th>V27.C1</th><th>V28.C1</th><th>V29.C1</th><th>V30.C1</th><th>V31.C1</th><th>V32.C1</th><th>V33.C1</th><th>V34.C1</th><th>V35.C1</th><th>V36.C1</th><th>V37.C1</th><th>&hellip;</th><th>V24</th><th>V25</th><th>V26</th><th>V40</th><th>V41</th><th>V42</th><th>V42.1</th><th>V43</th><th>V44</th><th>V45</th><th>V46</th><th>V47</th><th>V48</th><th>V49</th><th>V50</th><th>V51</th><th>V52</th><th>V52.1</th><th>V53</th><th>V58</th><th>V55</th><th>V56</th><th>V57</th><th>V54</th><th>V59</th><th>V67</th><th>V68</th><th>V69</th><th>V70</th><th>V71</th><th>V70.1</th><th>V60</th><th>V61</th><th>V62</th><th>V63</th><th>V64</th><th>V65</th></tr><tr><td>i64</td><td>i64</td><td>i64</td><td>i64</td><td>f64</td><td>str</td><td>str</td><td>str</td><td>str</td><td>str</td><td>i64</td><td>i64</td><td>i64</td><td>str</td><td>str</td><td>str</td><td>str</td><td>str</td><td>str</td><td>str</td><td>str</td><td>str</td><td>str</td><td>str</td><td>str</td><td>str</td><td>str</td><td>str</td><td>str</td><td>str</td><td>str</td><td>str</td><td>str</td><td>str</td><td>str</td><td>str</td><td>str</td><td>&hellip;</td><td>str</td><td>str</td><td>str</td><td>str</td><td>str</td><td>str</td><td>str</td><td>str</td><td>str</td><td>str</td><td>str</td><td>str</td><td>str</td><td>str</td><td>str</td><td>str</td><td>str</td><td>str</td><td>str</td><td>str</td><td>str</td><td>str</td><td>str</td><td>str</td><td>str</td><td>str</td><td>str</td><td>str</td><td>str</td><td>str</td><td>str</td><td>str</td><td>str</td><td>str</td><td>str</td><td>str</td><td>str</td></tr></thead><tbody><tr><td>3</td><td>1</td><td>1</td><td>1</td><td>239.53</td><td>&quot;95.45%&quot;</td><td>&quot;de&quot;</td><td>&quot;2025-08-12&quot;</td><td>&quot;2025-08-12&quot;</td><td>&quot; 00:04:00&quot;</td><td>126</td><td>85</td><td>28</td><td>&quot;2025-08-12&quot;</td><td>&quot;Zusammenhalt&quot;</td><td>&quot;Unterstützung&quot;</td><td>&quot;Wertschätzung&quot;</td><td>&quot;3&quot;</td><td>&quot;&quot;</td><td>&quot;&quot;</td><td>&quot;&quot;</td><td>&quot;&quot;</td><td>&quot;1&quot;</td><td>&quot;&quot;</td><td>&quot;&quot;</td><td>&quot;&quot;</td><td>&quot;3&quot;</td><td>&quot;5&quot;</td><td>&quot;6&quot;</td><td>&quot;6&quot;</td><td>&quot;4&quot;</td><td>&quot;6&quot;</td><td>&quot;6&quot;</td><td>&quot;6&quot;</td><td>&quot;6&quot;</td><td>&quot;6&quot;</td><td>&quot;4&quot;</td><td>&hellip;</td><td>&quot;1&quot;</td><td>&quot;&quot;</td><td>&quot;1&quot;</td><td>&quot;&quot;</td><td>&quot;&quot;</td><td>&quot;&quot;</td><td>&quot;&quot;</td><td>&quot;1&quot;</td><td>&quot;1&quot;</td><td>&quot;1&quot;</td><td>&quot;1&quot;</td><td>&quot;1&quot;</td><td>&quot;&quot;</td><td>&quot;1&quot;</td><td>&quot;1&quot;</td><td>&quot;1&quot;</td><td>&quot;&quot;</td><td>&quot;&quot;</td><td>&quot;2&quot;</td><td>&quot;3&quot;</td><td>&quot;8&quot;</td><td>&quot;Wenn die Person zu große eigen…</td><td>&quot;Alles gut&quot;</td><td>&quot;8&quot;</td><td>&quot;&quot;</td><td>&quot;1&quot;</td><td>&quot;&quot;</td><td>&quot;&quot;</td><td>&quot;&quot;</td><td>&quot;&quot;</td><td>&quot;&quot;</td><td>&quot;23&quot;</td><td>&quot;3&quot;</td><td>&quot;1&quot;</td><td>&quot;Nein :)&quot;</td><td>&quot;5&quot;</td><td>&quot;&quot;</td></tr><tr><td>4</td><td>1</td><td>1</td><td>1</td><td>917.07</td><td>&quot;90.91%&quot;</td><td>&quot;de&quot;</td><td>&quot;2025-08-12&quot;</td><td>&quot;2025-08-12&quot;</td><td>&quot; 00:15:18&quot;</td><td>752</td><td>136</td><td>30</td><td>&quot;2025-08-12&quot;</td><td>&quot;Wärme&quot;</td><td>&quot;Herzlichkeit&quot;</td><td>&quot;Angenommen werden&quot;</td><td>&quot;2&quot;</td><td>&quot;&quot;</td><td>&quot;&quot;</td><td>&quot;&quot;</td><td>&quot;&quot;</td><td>&quot;1&quot;</td><td>&quot;1&quot;</td><td>&quot;&quot;</td><td>&quot;&quot;</td><td>&quot;1&quot;</td><td>&quot;6&quot;</td><td>&quot;6&quot;</td><td>&quot;6&quot;</td><td>&quot;5&quot;</td><td>&quot;6&quot;</td><td>&quot;6&quot;</td><td>&quot;6&quot;</td><td>&quot;6&quot;</td><td>&quot;6&quot;</td><td>&quot;5&quot;</td><td>&hellip;</td><td>&quot;1&quot;</td><td>&quot;&quot;</td><td>&quot;1&quot;</td><td>&quot;&quot;</td><td>&quot;1&quot;</td><td>&quot;&quot;</td><td>&quot;&quot;</td><td>&quot;1&quot;</td><td>&quot;1&quot;</td><td>&quot;1&quot;</td><td>&quot;1&quot;</td><td>&quot;1&quot;</td><td>&quot;1&quot;</td><td>&quot;1&quot;</td><td>&quot;1&quot;</td><td>&quot;1&quot;</td><td>&quot;&quot;</td><td>&quot;&quot;</td><td>&quot;1&quot;</td><td>&quot;2&quot;</td><td>&quot;10&quot;</td><td>&quot;Kein U25 Standort in der Nähe …</td><td>&quot;Mehr Fortbildungen&quot;</td><td>&quot;8&quot;</td><td>&quot;&quot;</td><td>&quot;1&quot;</td><td>&quot;&quot;</td><td>&quot;&quot;</td><td>&quot;&quot;</td><td>&quot;&quot;</td><td>&quot;&quot;</td><td>&quot;23&quot;</td><td>&quot;3&quot;</td><td>&quot;1&quot;</td><td>&quot;&quot;</td><td>&quot;5&quot;</td><td>&quot;&quot;</td></tr><tr><td>5</td><td>1</td><td>1</td><td>1</td><td>938.24</td><td>&quot;77.27%&quot;</td><td>&quot;de&quot;</td><td>&quot;2025-08-12&quot;</td><td>&quot;2025-08-12&quot;</td><td>&quot; 00:15:39&quot;</td><td>492</td><td>354</td><td>93</td><td>&quot;2025-08-12&quot;</td><td>&quot;&quot;</td><td>&quot;&quot;</td><td>&quot;&quot;</td><td>&quot;2&quot;</td><td>&quot;&quot;</td><td>&quot;&quot;</td><td>&quot;&quot;</td><td>&quot;&quot;</td><td>&quot;1&quot;</td><td>&quot;&quot;</td><td>&quot;&quot;</td><td>&quot;&quot;</td><td>&quot;4&quot;</td><td>&quot;5&quot;</td><td>&quot;5&quot;</td><td>&quot;6&quot;</td><td>&quot;4&quot;</td><td>&quot;5&quot;</td><td>&quot;5&quot;</td><td>&quot;3&quot;</td><td>&quot;3&quot;</td><td>&quot;4&quot;</td><td>&quot;5&quot;</td><td>&hellip;</td><td>&quot;&quot;</td><td>&quot;1&quot;</td><td>&quot;1&quot;</td><td>&quot;&quot;</td><td>&quot;&quot;</td><td>&quot;&quot;</td><td>&quot;&quot;</td><td>&quot;1&quot;</td><td>&quot;1&quot;</td><td>&quot;1&quot;</td><td>&quot;1&quot;</td><td>&quot;&quot;</td><td>&quot;&quot;</td><td>&quot;&quot;</td><td>&quot;1&quot;</td><td>&quot;&quot;</td><td>&quot;&quot;</td><td>&quot;&quot;</td><td>&quot;3&quot;</td><td>&quot;3&quot;</td><td>&quot;7&quot;</td><td>&quot;&quot;</td><td>&quot;&quot;</td><td>&quot;8&quot;</td><td>&quot;&quot;</td><td>&quot;1&quot;</td><td>&quot;&quot;</td><td>&quot;&quot;</td><td>&quot;&quot;</td><td>&quot;&quot;</td><td>&quot;&quot;</td><td>&quot;21&quot;</td><td>&quot;3&quot;</td><td>&quot;1&quot;</td><td>&quot;&quot;</td><td>&quot;5&quot;</td><td>&quot;&quot;</td></tr><tr><td>6</td><td>1</td><td>1</td><td>1</td><td>226.5</td><td>&quot;86.36%&quot;</td><td>&quot;de&quot;</td><td>&quot;2025-08-12&quot;</td><td>&quot;2025-08-12&quot;</td><td>&quot; 00:03:47&quot;</td><td>139</td><td>71</td><td>17</td><td>&quot;2025-08-12&quot;</td><td>&quot;Community&quot;</td><td>&quot;Hilfe&quot;</td><td>&quot;Verständnis&quot;</td><td>&quot;3&quot;</td><td>&quot;&quot;</td><td>&quot;&quot;</td><td>&quot;1&quot;</td><td>&quot;&quot;</td><td>&quot;&quot;</td><td>&quot;&quot;</td><td>&quot;&quot;</td><td>&quot;&quot;</td><td>&quot;1&quot;</td><td>&quot;6&quot;</td><td>&quot;6&quot;</td><td>&quot;6&quot;</td><td>&quot;5&quot;</td><td>&quot;5&quot;</td><td>&quot;6&quot;</td><td>&quot;6&quot;</td><td>&quot;6&quot;</td><td>&quot;6&quot;</td><td>&quot;5&quot;</td><td>&hellip;</td><td>&quot;1&quot;</td><td>&quot;&quot;</td><td>&quot;1&quot;</td><td>&quot;&quot;</td><td>&quot;&quot;</td><td>&quot;&quot;</td><td>&quot;&quot;</td><td>&quot;1&quot;</td><td>&quot;1&quot;</td><td>&quot;1&quot;</td><td>&quot;&quot;</td><td>&quot;1&quot;</td><td>&quot;1&quot;</td><td>&quot;&quot;</td><td>&quot;&quot;</td><td>&quot;1&quot;</td><td>&quot;&quot;</td><td>&quot;&quot;</td><td>&quot;2&quot;</td><td>&quot;2&quot;</td><td>&quot;9&quot;</td><td>&quot;Wenn man sich nicht mit dem Th…</td><td>&quot;&quot;</td><td>&quot;6&quot;</td><td>&quot;&quot;</td><td>&quot;1&quot;</td><td>&quot;&quot;</td><td>&quot;&quot;</td><td>&quot;&quot;</td><td>&quot;&quot;</td><td>&quot;&quot;</td><td>&quot;24&quot;</td><td>&quot;4&quot;</td><td>&quot;1&quot;</td><td>&quot;&quot;</td><td>&quot;5&quot;</td><td>&quot;&quot;</td></tr><tr><td>7</td><td>1</td><td>1</td><td>1</td><td>838.31</td><td>&quot;100%&quot;</td><td>&quot;de&quot;</td><td>&quot;2025-08-12&quot;</td><td>&quot;2025-08-12&quot;</td><td>&quot; 00:13:59&quot;</td><td>651</td><td>136</td><td>51</td><td>&quot;2025-08-12&quot;</td><td>&quot;Unterstützung&quot;</td><td>&quot;Akzeptanz&quot;</td><td>&quot;Sicherheit&quot;</td><td>&quot;4&quot;</td><td>&quot;1&quot;</td><td>&quot;&quot;</td><td>&quot;&quot;</td><td>&quot;&quot;</td><td>&quot;&quot;</td><td>&quot;&quot;</td><td>&quot;&quot;</td><td>&quot;&quot;</td><td>&quot;2&quot;</td><td>&quot;6&quot;</td><td>&quot;5&quot;</td><td>&quot;6&quot;</td><td>&quot;4&quot;</td><td>&quot;5&quot;</td><td>&quot;6&quot;</td><td>&quot;5&quot;</td><td>&quot;6&quot;</td><td>&quot;5&quot;</td><td>&quot;5&quot;</td><td>&hellip;</td><td>&quot;1&quot;</td><td>&quot;&quot;</td><td>&quot;1&quot;</td><td>&quot;&quot;</td><td>&quot;&quot;</td><td>&quot;&quot;</td><td>&quot;&quot;</td><td>&quot;1&quot;</td><td>&quot;1&quot;</td><td>&quot;1&quot;</td><td>&quot;1&quot;</td><td>&quot;&quot;</td><td>&quot;&quot;</td><td>&quot;1&quot;</td><td>&quot;1&quot;</td><td>&quot;&quot;</td><td>&quot;&quot;</td><td>&quot;&quot;</td><td>&quot;2&quot;</td><td>&quot;2&quot;</td><td>&quot;8&quot;</td><td>&quot;Persönliche Belastung mit dem …</td><td>&quot;Mehr Sichtbarkeit für ein wich…</td><td>&quot;7&quot;</td><td>&quot;&quot;</td><td>&quot;&quot;</td><td>&quot;1&quot;</td><td>&quot;&quot;</td><td>&quot;&quot;</td><td>&quot;&quot;</td><td>&quot;&quot;</td><td>&quot;24&quot;</td><td>&quot;3&quot;</td><td>&quot;2&quot;</td><td>&quot;/&quot;</td><td>&quot;5&quot;</td><td>&quot;/&quot;</td></tr><tr><td>&hellip;</td><td>&hellip;</td><td>&hellip;</td><td>&hellip;</td><td>&hellip;</td><td>&hellip;</td><td>&hellip;</td><td>&hellip;</td><td>&hellip;</td><td>&hellip;</td><td>&hellip;</td><td>&hellip;</td><td>&hellip;</td><td>&hellip;</td><td>&hellip;</td><td>&hellip;</td><td>&hellip;</td><td>&hellip;</td><td>&hellip;</td><td>&hellip;</td><td>&hellip;</td><td>&hellip;</td><td>&hellip;</td><td>&hellip;</td><td>&hellip;</td><td>&hellip;</td><td>&hellip;</td><td>&hellip;</td><td>&hellip;</td><td>&hellip;</td><td>&hellip;</td><td>&hellip;</td><td>&hellip;</td><td>&hellip;</td><td>&hellip;</td><td>&hellip;</td><td>&hellip;</td><td>&hellip;</td><td>&hellip;</td><td>&hellip;</td><td>&hellip;</td><td>&hellip;</td><td>&hellip;</td><td>&hellip;</td><td>&hellip;</td><td>&hellip;</td><td>&hellip;</td><td>&hellip;</td><td>&hellip;</td><td>&hellip;</td><td>&hellip;</td><td>&hellip;</td><td>&hellip;</td><td>&hellip;</td><td>&hellip;</td><td>&hellip;</td><td>&hellip;</td><td>&hellip;</td><td>&hellip;</td><td>&hellip;</td><td>&hellip;</td><td>&hellip;</td><td>&hellip;</td><td>&hellip;</td><td>&hellip;</td><td>&hellip;</td><td>&hellip;</td><td>&hellip;</td><td>&hellip;</td><td>&hellip;</td><td>&hellip;</td><td>&hellip;</td><td>&hellip;</td><td>&hellip;</td><td>&hellip;</td></tr><tr><td>78</td><td>1</td><td>1</td><td>1</td><td>594.44</td><td>&quot;86.36%&quot;</td><td>&quot;de&quot;</td><td>&quot;2025-09-24&quot;</td><td>&quot;2025-09-24&quot;</td><td>&quot; 00:09:55&quot;</td><td>311</td><td>181</td><td>102</td><td>&quot;2025-09-24&quot;</td><td>&quot;Geborgenheit&quot;</td><td>&quot;Vielfalt&quot;</td><td>&quot;Zusammenhalt&quot;</td><td>&quot;1&quot;</td><td>&quot;1&quot;</td><td>&quot;&quot;</td><td>&quot;&quot;</td><td>&quot;&quot;</td><td>&quot;&quot;</td><td>&quot;&quot;</td><td>&quot;&quot;</td><td>&quot;&quot;</td><td>&quot;3&quot;</td><td>&quot;5&quot;</td><td>&quot;5&quot;</td><td>&quot;6&quot;</td><td>&quot;5&quot;</td><td>&quot;4&quot;</td><td>&quot;6&quot;</td><td>&quot;6&quot;</td><td>&quot;5&quot;</td><td>&quot;5&quot;</td><td>&quot;4&quot;</td><td>&hellip;</td><td>&quot;1&quot;</td><td>&quot;&quot;</td><td>&quot;1&quot;</td><td>&quot;&quot;</td><td>&quot;&quot;</td><td>&quot;&quot;</td><td>&quot;&quot;</td><td>&quot;1&quot;</td><td>&quot;1&quot;</td><td>&quot;1&quot;</td><td>&quot;&quot;</td><td>&quot;1&quot;</td><td>&quot;&quot;</td><td>&quot;1&quot;</td><td>&quot;1&quot;</td><td>&quot;1&quot;</td><td>&quot;&quot;</td><td>&quot;&quot;</td><td>&quot;2&quot;</td><td>&quot;2&quot;</td><td>&quot;8&quot;</td><td>&quot;&quot;</td><td>&quot;&quot;</td><td>&quot;8&quot;</td><td>&quot;&quot;</td><td>&quot;&quot;</td><td>&quot;1&quot;</td><td>&quot;&quot;</td><td>&quot;&quot;</td><td>&quot;&quot;</td><td>&quot;&quot;</td><td>&quot;20&quot;</td><td>&quot;3&quot;</td><td>&quot;1&quot;</td><td>&quot;Es ist nicht bloß eine tolle H…</td><td>&quot;5&quot;</td><td>&quot;&quot;</td></tr><tr><td>79</td><td>1</td><td>1</td><td>1</td><td>647.52</td><td>&quot;90.91%&quot;</td><td>&quot;de&quot;</td><td>&quot;2025-09-24&quot;</td><td>&quot;2025-09-24&quot;</td><td>&quot; 00:10:48&quot;</td><td>492</td><td>130</td><td>26</td><td>&quot;2025-09-24&quot;</td><td>&quot;Mailberatung&quot;</td><td>&quot;Ehrenamt&quot;</td><td>&quot;Jugendliche&quot;</td><td>&quot;3&quot;</td><td>&quot;1&quot;</td><td>&quot;&quot;</td><td>&quot;1&quot;</td><td>&quot;&quot;</td><td>&quot;&quot;</td><td>&quot;&quot;</td><td>&quot;&quot;</td><td>&quot;&quot;</td><td>&quot;1&quot;</td><td>&quot;6&quot;</td><td>&quot;6&quot;</td><td>&quot;6&quot;</td><td>&quot;5&quot;</td><td>&quot;6&quot;</td><td>&quot;6&quot;</td><td>&quot;5&quot;</td><td>&quot;4&quot;</td><td>&quot;6&quot;</td><td>&quot;5&quot;</td><td>&hellip;</td><td>&quot;1&quot;</td><td>&quot;&quot;</td><td>&quot;1&quot;</td><td>&quot;&quot;</td><td>&quot;1&quot;</td><td>&quot;&quot;</td><td>&quot;&quot;</td><td>&quot;1&quot;</td><td>&quot;1&quot;</td><td>&quot;1&quot;</td><td>&quot;1&quot;</td><td>&quot;1&quot;</td><td>&quot;&quot;</td><td>&quot;1&quot;</td><td>&quot;1&quot;</td><td>&quot;1&quot;</td><td>&quot;&quot;</td><td>&quot;&quot;</td><td>&quot;2&quot;</td><td>&quot;2&quot;</td><td>&quot;9&quot;</td><td>&quot;wenn die Person schon sehr vie…</td><td>&quot;mehr Zusammengehörigkeitsgefüh…</td><td>&quot;9&quot;</td><td>&quot;&quot;</td><td>&quot;1&quot;</td><td>&quot;&quot;</td><td>&quot;&quot;</td><td>&quot;&quot;</td><td>&quot;&quot;</td><td>&quot;&quot;</td><td>&quot;26&quot;</td><td>&quot;4&quot;</td><td>&quot;1&quot;</td><td>&quot;&quot;</td><td>&quot;5&quot;</td><td>&quot;&quot;</td></tr><tr><td>80</td><td>1</td><td>1</td><td>1</td><td>457.75</td><td>&quot;90.91%&quot;</td><td>&quot;de&quot;</td><td>&quot;2025-09-24&quot;</td><td>&quot;2025-09-24&quot;</td><td>&quot; 00:07:38&quot;</td><td>261</td><td>162</td><td>35</td><td>&quot;2025-09-24&quot;</td><td>&quot;wertvoll&quot;</td><td>&quot;herausfordernd&quot;</td><td>&quot;akzeptierend&quot;</td><td>&quot;2&quot;</td><td>&quot;&quot;</td><td>&quot;&quot;</td><td>&quot;&quot;</td><td>&quot;&quot;</td><td>&quot;1&quot;</td><td>&quot;&quot;</td><td>&quot;&quot;</td><td>&quot;&quot;</td><td>&quot;2&quot;</td><td>&quot;6&quot;</td><td>&quot;6&quot;</td><td>&quot;6&quot;</td><td>&quot;5&quot;</td><td>&quot;5&quot;</td><td>&quot;6&quot;</td><td>&quot;5&quot;</td><td>&quot;4&quot;</td><td>&quot;6&quot;</td><td>&quot;4&quot;</td><td>&hellip;</td><td>&quot;&quot;</td><td>&quot;&quot;</td><td>&quot;&quot;</td><td>&quot;&quot;</td><td>&quot;&quot;</td><td>&quot;&quot;</td><td>&quot;&quot;</td><td>&quot;1&quot;</td><td>&quot;&quot;</td><td>&quot;&quot;</td><td>&quot;1&quot;</td><td>&quot;1&quot;</td><td>&quot;1&quot;</td><td>&quot;1&quot;</td><td>&quot;1&quot;</td><td>&quot;1&quot;</td><td>&quot;&quot;</td><td>&quot;&quot;</td><td>&quot;3&quot;</td><td>&quot;3&quot;</td><td>&quot;10&quot;</td><td>&quot;Die Konfrontation mit oft hera…</td><td>&quot;Mehr fachlichen Input&quot;</td><td>&quot;9&quot;</td><td>&quot;&quot;</td><td>&quot;1&quot;</td><td>&quot;&quot;</td><td>&quot;&quot;</td><td>&quot;&quot;</td><td>&quot;&quot;</td><td>&quot;&quot;</td><td>&quot;25&quot;</td><td>&quot;3&quot;</td><td>&quot;1&quot;</td><td>&quot;&quot;</td><td>&quot;5&quot;</td><td>&quot;&quot;</td></tr><tr><td>81</td><td>1</td><td>1</td><td>1</td><td>517.57</td><td>&quot;86.36%&quot;</td><td>&quot;de&quot;</td><td>&quot;2025-09-24&quot;</td><td>&quot;2025-09-24&quot;</td><td>&quot; 00:08:38&quot;</td><td>229</td><td>263</td><td>25</td><td>&quot;2025-09-24&quot;</td><td>&quot;Unterstützung&quot;</td><td>&quot;Miteinander&quot;</td><td>&quot;Austausch&quot;</td><td>&quot;3&quot;</td><td>&quot;&quot;</td><td>&quot;&quot;</td><td>&quot;1&quot;</td><td>&quot;&quot;</td><td>&quot;&quot;</td><td>&quot;&quot;</td><td>&quot;&quot;</td><td>&quot;&quot;</td><td>&quot;2&quot;</td><td>&quot;6&quot;</td><td>&quot;5&quot;</td><td>&quot;6&quot;</td><td>&quot;4&quot;</td><td>&quot;5&quot;</td><td>&quot;6&quot;</td><td>&quot;6&quot;</td><td>&quot;6&quot;</td><td>&quot;6&quot;</td><td>&quot;6&quot;</td><td>&hellip;</td><td>&quot;1&quot;</td><td>&quot;&quot;</td><td>&quot;&quot;</td><td>&quot;&quot;</td><td>&quot;&quot;</td><td>&quot;&quot;</td><td>&quot;&quot;</td><td>&quot;&quot;</td><td>&quot;&quot;</td><td>&quot;1&quot;</td><td>&quot;&quot;</td><td>&quot;1&quot;</td><td>&quot;&quot;</td><td>&quot;1&quot;</td><td>&quot;&quot;</td><td>&quot;1&quot;</td><td>&quot;&quot;</td><td>&quot;&quot;</td><td>&quot;2&quot;</td><td>&quot;2&quot;</td><td>&quot;10&quot;</td><td>&quot;Wenn man gerade selber in eine…</td><td>&quot;&quot;</td><td>&quot;9&quot;</td><td>&quot;&quot;</td><td>&quot;1&quot;</td><td>&quot;&quot;</td><td>&quot;&quot;</td><td>&quot;&quot;</td><td>&quot;&quot;</td><td>&quot;&quot;</td><td>&quot;22&quot;</td><td>&quot;3&quot;</td><td>&quot;1&quot;</td><td>&quot;&quot;</td><td>&quot;5&quot;</td><td>&quot;&quot;</td></tr><tr><td>82</td><td>1</td><td>1</td><td>1</td><td>320.18</td><td>&quot;90.91%&quot;</td><td>&quot;de&quot;</td><td>&quot;2025-09-24&quot;</td><td>&quot;2025-09-24&quot;</td><td>&quot; 00:05:21&quot;</td><td>173</td><td>102</td><td>46</td><td>&quot;2025-09-24&quot;</td><td>&quot;Unterstützung&quot;</td><td>&quot;wichtig&quot;</td><td>&quot;Miteinander&quot;</td><td>&quot;1&quot;</td><td>&quot;&quot;</td><td>&quot;&quot;</td><td>&quot;&quot;</td><td>&quot;&quot;</td><td>&quot;1&quot;</td><td>&quot;&quot;</td><td>&quot;&quot;</td><td>&quot;&quot;</td><td>&quot;2&quot;</td><td>&quot;4&quot;</td><td>&quot;5&quot;</td><td>&quot;6&quot;</td><td>&quot;5&quot;</td><td>&quot;5&quot;</td><td>&quot;6&quot;</td><td>&quot;5&quot;</td><td>&quot;5&quot;</td><td>&quot;5&quot;</td><td>&quot;5&quot;</td><td>&hellip;</td><td>&quot;1&quot;</td><td>&quot;&quot;</td><td>&quot;1&quot;</td><td>&quot;&quot;</td><td>&quot;&quot;</td><td>&quot;&quot;</td><td>&quot;&quot;</td><td>&quot;1&quot;</td><td>&quot;&quot;</td><td>&quot;1&quot;</td><td>&quot;1&quot;</td><td>&quot;1&quot;</td><td>&quot;1&quot;</td><td>&quot;1&quot;</td><td>&quot;1&quot;</td><td>&quot;&quot;</td><td>&quot;&quot;</td><td>&quot;&quot;</td><td>&quot;2&quot;</td><td>&quot;2&quot;</td><td>&quot;9&quot;</td><td>&quot;Unsicherheit, ob mein gegenübe…</td><td>&quot;&quot;</td><td>&quot;8&quot;</td><td>&quot;&quot;</td><td>&quot;&quot;</td><td>&quot;1&quot;</td><td>&quot;&quot;</td><td>&quot;&quot;</td><td>&quot;&quot;</td><td>&quot;&quot;</td><td>&quot;25&quot;</td><td>&quot;4&quot;</td><td>&quot;2&quot;</td><td>&quot;es macht mir großartig viel Sp…</td><td>&quot;4&quot;</td><td>&quot;&quot;</td></tr></tbody></table></div>"
      ],
      "text/plain": [
       "shape: (77, 89)\n",
       "┌─────┬─────────┬────────────┬───────────┬───┬─────┬─────────────────────────────────┬─────┬─────┐\n",
       "│ vID ┆ vANONYM ┆ vCOMPLETED ┆ vFINISHED ┆ … ┆ V62 ┆ V63                             ┆ V64 ┆ V65 │\n",
       "│ --- ┆ ---     ┆ ---        ┆ ---       ┆   ┆ --- ┆ ---                             ┆ --- ┆ --- │\n",
       "│ i64 ┆ i64     ┆ i64        ┆ i64       ┆   ┆ str ┆ str                             ┆ str ┆ str │\n",
       "╞═════╪═════════╪════════════╪═══════════╪═══╪═════╪═════════════════════════════════╪═════╪═════╡\n",
       "│ 3   ┆ 1       ┆ 1          ┆ 1         ┆ … ┆ 1   ┆ Nein :)                         ┆ 5   ┆     │\n",
       "│ 4   ┆ 1       ┆ 1          ┆ 1         ┆ … ┆ 1   ┆                                 ┆ 5   ┆     │\n",
       "│ 5   ┆ 1       ┆ 1          ┆ 1         ┆ … ┆ 1   ┆                                 ┆ 5   ┆     │\n",
       "│ 6   ┆ 1       ┆ 1          ┆ 1         ┆ … ┆ 1   ┆                                 ┆ 5   ┆     │\n",
       "│ 7   ┆ 1       ┆ 1          ┆ 1         ┆ … ┆ 2   ┆ /                               ┆ 5   ┆ /   │\n",
       "│ …   ┆ …       ┆ …          ┆ …         ┆ … ┆ …   ┆ …                               ┆ …   ┆ …   │\n",
       "│ 78  ┆ 1       ┆ 1          ┆ 1         ┆ … ┆ 1   ┆ Es ist nicht bloß eine tolle H… ┆ 5   ┆     │\n",
       "│ 79  ┆ 1       ┆ 1          ┆ 1         ┆ … ┆ 1   ┆                                 ┆ 5   ┆     │\n",
       "│ 80  ┆ 1       ┆ 1          ┆ 1         ┆ … ┆ 1   ┆                                 ┆ 5   ┆     │\n",
       "│ 81  ┆ 1       ┆ 1          ┆ 1         ┆ … ┆ 1   ┆                                 ┆ 5   ┆     │\n",
       "│ 82  ┆ 1       ┆ 1          ┆ 1         ┆ … ┆ 2   ┆ es macht mir großartig viel Sp… ┆ 4   ┆     │\n",
       "└─────┴─────────┴────────────┴───────────┴───┴─────┴─────────────────────────────────┴─────┴─────┘"
      ]
     },
     "execution_count": 75,
     "metadata": {},
     "output_type": "execute_result"
    }
   ],
   "source": [
    "leg_df.filter(\n",
    "    (pl.col(\"vCOMPLETED\") != 0) &\n",
    "    ~pl.all_horizontal(\n",
    "        cs.matches(\"^V\\\\d\").fill_null(\"\").cast(pl.String, strict=False) == \"\"\n",
    "    )\n",
    ")"
   ]
  },
  {
   "cell_type": "code",
   "execution_count": 62,
   "id": "a9df7398",
   "metadata": {},
   "outputs": [
    {
     "data": {
      "text/html": [
       "<div><style>\n",
       ".dataframe > thead > tr,\n",
       ".dataframe > tbody > tr {\n",
       "  text-align: right;\n",
       "  white-space: pre-wrap;\n",
       "}\n",
       "</style>\n",
       "<small>shape: (78, 89)</small><table border=\"1\" class=\"dataframe\"><thead><tr><th>vID</th><th>vANONYM</th><th>vCOMPLETED</th><th>vFINISHED</th><th>vDURATION</th><th>vQUOTE</th><th>vLANG</th><th>vSTART</th><th>vEND</th><th>vRUNTIME</th><th>vPAGETIME1</th><th>vPAGETIME2</th><th>vPAGETIME3</th><th>vDATE</th><th>V1</th><th>V2</th><th>V3</th><th>V4</th><th>V5</th><th>V6</th><th>V7</th><th>V8</th><th>V9</th><th>V10</th><th>V11</th><th>V12</th><th>V27.C1</th><th>V28.C1</th><th>V29.C1</th><th>V30.C1</th><th>V31.C1</th><th>V32.C1</th><th>V33.C1</th><th>V34.C1</th><th>V35.C1</th><th>V36.C1</th><th>V37.C1</th><th>&hellip;</th><th>V24</th><th>V25</th><th>V26</th><th>V40</th><th>V41</th><th>V42</th><th>V42.1</th><th>V43</th><th>V44</th><th>V45</th><th>V46</th><th>V47</th><th>V48</th><th>V49</th><th>V50</th><th>V51</th><th>V52</th><th>V52.1</th><th>V53</th><th>V58</th><th>V55</th><th>V56</th><th>V57</th><th>V54</th><th>V59</th><th>V67</th><th>V68</th><th>V69</th><th>V70</th><th>V71</th><th>V70.1</th><th>V60</th><th>V61</th><th>V62</th><th>V63</th><th>V64</th><th>V65</th></tr><tr><td>i64</td><td>i64</td><td>i64</td><td>i64</td><td>f64</td><td>str</td><td>str</td><td>str</td><td>str</td><td>str</td><td>i64</td><td>i64</td><td>i64</td><td>str</td><td>str</td><td>str</td><td>str</td><td>str</td><td>str</td><td>str</td><td>str</td><td>str</td><td>str</td><td>str</td><td>str</td><td>str</td><td>str</td><td>str</td><td>str</td><td>str</td><td>str</td><td>str</td><td>str</td><td>str</td><td>str</td><td>str</td><td>str</td><td>&hellip;</td><td>str</td><td>str</td><td>str</td><td>str</td><td>str</td><td>str</td><td>str</td><td>str</td><td>str</td><td>str</td><td>str</td><td>str</td><td>str</td><td>str</td><td>str</td><td>str</td><td>str</td><td>str</td><td>str</td><td>str</td><td>str</td><td>str</td><td>str</td><td>str</td><td>str</td><td>str</td><td>str</td><td>str</td><td>str</td><td>str</td><td>str</td><td>str</td><td>str</td><td>str</td><td>str</td><td>str</td><td>str</td></tr></thead><tbody><tr><td>3</td><td>1</td><td>1</td><td>1</td><td>239.53</td><td>&quot;95.45%&quot;</td><td>&quot;de&quot;</td><td>&quot;2025-08-12&quot;</td><td>&quot;2025-08-12&quot;</td><td>&quot; 00:04:00&quot;</td><td>126</td><td>85</td><td>28</td><td>&quot;2025-08-12&quot;</td><td>&quot;Zusammenhalt&quot;</td><td>&quot;Unterstützung&quot;</td><td>&quot;Wertschätzung&quot;</td><td>&quot;3&quot;</td><td>&quot;&quot;</td><td>&quot;&quot;</td><td>&quot;&quot;</td><td>&quot;&quot;</td><td>&quot;1&quot;</td><td>&quot;&quot;</td><td>&quot;&quot;</td><td>&quot;&quot;</td><td>&quot;3&quot;</td><td>&quot;5&quot;</td><td>&quot;6&quot;</td><td>&quot;6&quot;</td><td>&quot;4&quot;</td><td>&quot;6&quot;</td><td>&quot;6&quot;</td><td>&quot;6&quot;</td><td>&quot;6&quot;</td><td>&quot;6&quot;</td><td>&quot;4&quot;</td><td>&hellip;</td><td>&quot;1&quot;</td><td>&quot;&quot;</td><td>&quot;1&quot;</td><td>&quot;&quot;</td><td>&quot;&quot;</td><td>&quot;&quot;</td><td>&quot;&quot;</td><td>&quot;1&quot;</td><td>&quot;1&quot;</td><td>&quot;1&quot;</td><td>&quot;1&quot;</td><td>&quot;1&quot;</td><td>&quot;&quot;</td><td>&quot;1&quot;</td><td>&quot;1&quot;</td><td>&quot;1&quot;</td><td>&quot;&quot;</td><td>&quot;&quot;</td><td>&quot;2&quot;</td><td>&quot;3&quot;</td><td>&quot;8&quot;</td><td>&quot;Wenn die Person zu große eigen…</td><td>&quot;Alles gut&quot;</td><td>&quot;8&quot;</td><td>&quot;&quot;</td><td>&quot;1&quot;</td><td>&quot;&quot;</td><td>&quot;&quot;</td><td>&quot;&quot;</td><td>&quot;&quot;</td><td>&quot;&quot;</td><td>&quot;23&quot;</td><td>&quot;3&quot;</td><td>&quot;1&quot;</td><td>&quot;Nein :)&quot;</td><td>&quot;5&quot;</td><td>&quot;&quot;</td></tr><tr><td>4</td><td>1</td><td>1</td><td>1</td><td>917.07</td><td>&quot;90.91%&quot;</td><td>&quot;de&quot;</td><td>&quot;2025-08-12&quot;</td><td>&quot;2025-08-12&quot;</td><td>&quot; 00:15:18&quot;</td><td>752</td><td>136</td><td>30</td><td>&quot;2025-08-12&quot;</td><td>&quot;Wärme&quot;</td><td>&quot;Herzlichkeit&quot;</td><td>&quot;Angenommen werden&quot;</td><td>&quot;2&quot;</td><td>&quot;&quot;</td><td>&quot;&quot;</td><td>&quot;&quot;</td><td>&quot;&quot;</td><td>&quot;1&quot;</td><td>&quot;1&quot;</td><td>&quot;&quot;</td><td>&quot;&quot;</td><td>&quot;1&quot;</td><td>&quot;6&quot;</td><td>&quot;6&quot;</td><td>&quot;6&quot;</td><td>&quot;5&quot;</td><td>&quot;6&quot;</td><td>&quot;6&quot;</td><td>&quot;6&quot;</td><td>&quot;6&quot;</td><td>&quot;6&quot;</td><td>&quot;5&quot;</td><td>&hellip;</td><td>&quot;1&quot;</td><td>&quot;&quot;</td><td>&quot;1&quot;</td><td>&quot;&quot;</td><td>&quot;1&quot;</td><td>&quot;&quot;</td><td>&quot;&quot;</td><td>&quot;1&quot;</td><td>&quot;1&quot;</td><td>&quot;1&quot;</td><td>&quot;1&quot;</td><td>&quot;1&quot;</td><td>&quot;1&quot;</td><td>&quot;1&quot;</td><td>&quot;1&quot;</td><td>&quot;1&quot;</td><td>&quot;&quot;</td><td>&quot;&quot;</td><td>&quot;1&quot;</td><td>&quot;2&quot;</td><td>&quot;10&quot;</td><td>&quot;Kein U25 Standort in der Nähe …</td><td>&quot;Mehr Fortbildungen&quot;</td><td>&quot;8&quot;</td><td>&quot;&quot;</td><td>&quot;1&quot;</td><td>&quot;&quot;</td><td>&quot;&quot;</td><td>&quot;&quot;</td><td>&quot;&quot;</td><td>&quot;&quot;</td><td>&quot;23&quot;</td><td>&quot;3&quot;</td><td>&quot;1&quot;</td><td>&quot;&quot;</td><td>&quot;5&quot;</td><td>&quot;&quot;</td></tr><tr><td>5</td><td>1</td><td>1</td><td>1</td><td>938.24</td><td>&quot;77.27%&quot;</td><td>&quot;de&quot;</td><td>&quot;2025-08-12&quot;</td><td>&quot;2025-08-12&quot;</td><td>&quot; 00:15:39&quot;</td><td>492</td><td>354</td><td>93</td><td>&quot;2025-08-12&quot;</td><td>&quot;&quot;</td><td>&quot;&quot;</td><td>&quot;&quot;</td><td>&quot;2&quot;</td><td>&quot;&quot;</td><td>&quot;&quot;</td><td>&quot;&quot;</td><td>&quot;&quot;</td><td>&quot;1&quot;</td><td>&quot;&quot;</td><td>&quot;&quot;</td><td>&quot;&quot;</td><td>&quot;4&quot;</td><td>&quot;5&quot;</td><td>&quot;5&quot;</td><td>&quot;6&quot;</td><td>&quot;4&quot;</td><td>&quot;5&quot;</td><td>&quot;5&quot;</td><td>&quot;3&quot;</td><td>&quot;3&quot;</td><td>&quot;4&quot;</td><td>&quot;5&quot;</td><td>&hellip;</td><td>&quot;&quot;</td><td>&quot;1&quot;</td><td>&quot;1&quot;</td><td>&quot;&quot;</td><td>&quot;&quot;</td><td>&quot;&quot;</td><td>&quot;&quot;</td><td>&quot;1&quot;</td><td>&quot;1&quot;</td><td>&quot;1&quot;</td><td>&quot;1&quot;</td><td>&quot;&quot;</td><td>&quot;&quot;</td><td>&quot;&quot;</td><td>&quot;1&quot;</td><td>&quot;&quot;</td><td>&quot;&quot;</td><td>&quot;&quot;</td><td>&quot;3&quot;</td><td>&quot;3&quot;</td><td>&quot;7&quot;</td><td>&quot;&quot;</td><td>&quot;&quot;</td><td>&quot;8&quot;</td><td>&quot;&quot;</td><td>&quot;1&quot;</td><td>&quot;&quot;</td><td>&quot;&quot;</td><td>&quot;&quot;</td><td>&quot;&quot;</td><td>&quot;&quot;</td><td>&quot;21&quot;</td><td>&quot;3&quot;</td><td>&quot;1&quot;</td><td>&quot;&quot;</td><td>&quot;5&quot;</td><td>&quot;&quot;</td></tr><tr><td>6</td><td>1</td><td>1</td><td>1</td><td>226.5</td><td>&quot;86.36%&quot;</td><td>&quot;de&quot;</td><td>&quot;2025-08-12&quot;</td><td>&quot;2025-08-12&quot;</td><td>&quot; 00:03:47&quot;</td><td>139</td><td>71</td><td>17</td><td>&quot;2025-08-12&quot;</td><td>&quot;Community&quot;</td><td>&quot;Hilfe&quot;</td><td>&quot;Verständnis&quot;</td><td>&quot;3&quot;</td><td>&quot;&quot;</td><td>&quot;&quot;</td><td>&quot;1&quot;</td><td>&quot;&quot;</td><td>&quot;&quot;</td><td>&quot;&quot;</td><td>&quot;&quot;</td><td>&quot;&quot;</td><td>&quot;1&quot;</td><td>&quot;6&quot;</td><td>&quot;6&quot;</td><td>&quot;6&quot;</td><td>&quot;5&quot;</td><td>&quot;5&quot;</td><td>&quot;6&quot;</td><td>&quot;6&quot;</td><td>&quot;6&quot;</td><td>&quot;6&quot;</td><td>&quot;5&quot;</td><td>&hellip;</td><td>&quot;1&quot;</td><td>&quot;&quot;</td><td>&quot;1&quot;</td><td>&quot;&quot;</td><td>&quot;&quot;</td><td>&quot;&quot;</td><td>&quot;&quot;</td><td>&quot;1&quot;</td><td>&quot;1&quot;</td><td>&quot;1&quot;</td><td>&quot;&quot;</td><td>&quot;1&quot;</td><td>&quot;1&quot;</td><td>&quot;&quot;</td><td>&quot;&quot;</td><td>&quot;1&quot;</td><td>&quot;&quot;</td><td>&quot;&quot;</td><td>&quot;2&quot;</td><td>&quot;2&quot;</td><td>&quot;9&quot;</td><td>&quot;Wenn man sich nicht mit dem Th…</td><td>&quot;&quot;</td><td>&quot;6&quot;</td><td>&quot;&quot;</td><td>&quot;1&quot;</td><td>&quot;&quot;</td><td>&quot;&quot;</td><td>&quot;&quot;</td><td>&quot;&quot;</td><td>&quot;&quot;</td><td>&quot;24&quot;</td><td>&quot;4&quot;</td><td>&quot;1&quot;</td><td>&quot;&quot;</td><td>&quot;5&quot;</td><td>&quot;&quot;</td></tr><tr><td>7</td><td>1</td><td>1</td><td>1</td><td>838.31</td><td>&quot;100%&quot;</td><td>&quot;de&quot;</td><td>&quot;2025-08-12&quot;</td><td>&quot;2025-08-12&quot;</td><td>&quot; 00:13:59&quot;</td><td>651</td><td>136</td><td>51</td><td>&quot;2025-08-12&quot;</td><td>&quot;Unterstützung&quot;</td><td>&quot;Akzeptanz&quot;</td><td>&quot;Sicherheit&quot;</td><td>&quot;4&quot;</td><td>&quot;1&quot;</td><td>&quot;&quot;</td><td>&quot;&quot;</td><td>&quot;&quot;</td><td>&quot;&quot;</td><td>&quot;&quot;</td><td>&quot;&quot;</td><td>&quot;&quot;</td><td>&quot;2&quot;</td><td>&quot;6&quot;</td><td>&quot;5&quot;</td><td>&quot;6&quot;</td><td>&quot;4&quot;</td><td>&quot;5&quot;</td><td>&quot;6&quot;</td><td>&quot;5&quot;</td><td>&quot;6&quot;</td><td>&quot;5&quot;</td><td>&quot;5&quot;</td><td>&hellip;</td><td>&quot;1&quot;</td><td>&quot;&quot;</td><td>&quot;1&quot;</td><td>&quot;&quot;</td><td>&quot;&quot;</td><td>&quot;&quot;</td><td>&quot;&quot;</td><td>&quot;1&quot;</td><td>&quot;1&quot;</td><td>&quot;1&quot;</td><td>&quot;1&quot;</td><td>&quot;&quot;</td><td>&quot;&quot;</td><td>&quot;1&quot;</td><td>&quot;1&quot;</td><td>&quot;&quot;</td><td>&quot;&quot;</td><td>&quot;&quot;</td><td>&quot;2&quot;</td><td>&quot;2&quot;</td><td>&quot;8&quot;</td><td>&quot;Persönliche Belastung mit dem …</td><td>&quot;Mehr Sichtbarkeit für ein wich…</td><td>&quot;7&quot;</td><td>&quot;&quot;</td><td>&quot;&quot;</td><td>&quot;1&quot;</td><td>&quot;&quot;</td><td>&quot;&quot;</td><td>&quot;&quot;</td><td>&quot;&quot;</td><td>&quot;24&quot;</td><td>&quot;3&quot;</td><td>&quot;2&quot;</td><td>&quot;/&quot;</td><td>&quot;5&quot;</td><td>&quot;/&quot;</td></tr><tr><td>&hellip;</td><td>&hellip;</td><td>&hellip;</td><td>&hellip;</td><td>&hellip;</td><td>&hellip;</td><td>&hellip;</td><td>&hellip;</td><td>&hellip;</td><td>&hellip;</td><td>&hellip;</td><td>&hellip;</td><td>&hellip;</td><td>&hellip;</td><td>&hellip;</td><td>&hellip;</td><td>&hellip;</td><td>&hellip;</td><td>&hellip;</td><td>&hellip;</td><td>&hellip;</td><td>&hellip;</td><td>&hellip;</td><td>&hellip;</td><td>&hellip;</td><td>&hellip;</td><td>&hellip;</td><td>&hellip;</td><td>&hellip;</td><td>&hellip;</td><td>&hellip;</td><td>&hellip;</td><td>&hellip;</td><td>&hellip;</td><td>&hellip;</td><td>&hellip;</td><td>&hellip;</td><td>&hellip;</td><td>&hellip;</td><td>&hellip;</td><td>&hellip;</td><td>&hellip;</td><td>&hellip;</td><td>&hellip;</td><td>&hellip;</td><td>&hellip;</td><td>&hellip;</td><td>&hellip;</td><td>&hellip;</td><td>&hellip;</td><td>&hellip;</td><td>&hellip;</td><td>&hellip;</td><td>&hellip;</td><td>&hellip;</td><td>&hellip;</td><td>&hellip;</td><td>&hellip;</td><td>&hellip;</td><td>&hellip;</td><td>&hellip;</td><td>&hellip;</td><td>&hellip;</td><td>&hellip;</td><td>&hellip;</td><td>&hellip;</td><td>&hellip;</td><td>&hellip;</td><td>&hellip;</td><td>&hellip;</td><td>&hellip;</td><td>&hellip;</td><td>&hellip;</td><td>&hellip;</td><td>&hellip;</td></tr><tr><td>79</td><td>1</td><td>1</td><td>1</td><td>647.52</td><td>&quot;90.91%&quot;</td><td>&quot;de&quot;</td><td>&quot;2025-09-24&quot;</td><td>&quot;2025-09-24&quot;</td><td>&quot; 00:10:48&quot;</td><td>492</td><td>130</td><td>26</td><td>&quot;2025-09-24&quot;</td><td>&quot;Mailberatung&quot;</td><td>&quot;Ehrenamt&quot;</td><td>&quot;Jugendliche&quot;</td><td>&quot;3&quot;</td><td>&quot;1&quot;</td><td>&quot;&quot;</td><td>&quot;1&quot;</td><td>&quot;&quot;</td><td>&quot;&quot;</td><td>&quot;&quot;</td><td>&quot;&quot;</td><td>&quot;&quot;</td><td>&quot;1&quot;</td><td>&quot;6&quot;</td><td>&quot;6&quot;</td><td>&quot;6&quot;</td><td>&quot;5&quot;</td><td>&quot;6&quot;</td><td>&quot;6&quot;</td><td>&quot;5&quot;</td><td>&quot;4&quot;</td><td>&quot;6&quot;</td><td>&quot;5&quot;</td><td>&hellip;</td><td>&quot;1&quot;</td><td>&quot;&quot;</td><td>&quot;1&quot;</td><td>&quot;&quot;</td><td>&quot;1&quot;</td><td>&quot;&quot;</td><td>&quot;&quot;</td><td>&quot;1&quot;</td><td>&quot;1&quot;</td><td>&quot;1&quot;</td><td>&quot;1&quot;</td><td>&quot;1&quot;</td><td>&quot;&quot;</td><td>&quot;1&quot;</td><td>&quot;1&quot;</td><td>&quot;1&quot;</td><td>&quot;&quot;</td><td>&quot;&quot;</td><td>&quot;2&quot;</td><td>&quot;2&quot;</td><td>&quot;9&quot;</td><td>&quot;wenn die Person schon sehr vie…</td><td>&quot;mehr Zusammengehörigkeitsgefüh…</td><td>&quot;9&quot;</td><td>&quot;&quot;</td><td>&quot;1&quot;</td><td>&quot;&quot;</td><td>&quot;&quot;</td><td>&quot;&quot;</td><td>&quot;&quot;</td><td>&quot;&quot;</td><td>&quot;26&quot;</td><td>&quot;4&quot;</td><td>&quot;1&quot;</td><td>&quot;&quot;</td><td>&quot;5&quot;</td><td>&quot;&quot;</td></tr><tr><td>80</td><td>1</td><td>1</td><td>1</td><td>457.75</td><td>&quot;90.91%&quot;</td><td>&quot;de&quot;</td><td>&quot;2025-09-24&quot;</td><td>&quot;2025-09-24&quot;</td><td>&quot; 00:07:38&quot;</td><td>261</td><td>162</td><td>35</td><td>&quot;2025-09-24&quot;</td><td>&quot;wertvoll&quot;</td><td>&quot;herausfordernd&quot;</td><td>&quot;akzeptierend&quot;</td><td>&quot;2&quot;</td><td>&quot;&quot;</td><td>&quot;&quot;</td><td>&quot;&quot;</td><td>&quot;&quot;</td><td>&quot;1&quot;</td><td>&quot;&quot;</td><td>&quot;&quot;</td><td>&quot;&quot;</td><td>&quot;2&quot;</td><td>&quot;6&quot;</td><td>&quot;6&quot;</td><td>&quot;6&quot;</td><td>&quot;5&quot;</td><td>&quot;5&quot;</td><td>&quot;6&quot;</td><td>&quot;5&quot;</td><td>&quot;4&quot;</td><td>&quot;6&quot;</td><td>&quot;4&quot;</td><td>&hellip;</td><td>&quot;&quot;</td><td>&quot;&quot;</td><td>&quot;&quot;</td><td>&quot;&quot;</td><td>&quot;&quot;</td><td>&quot;&quot;</td><td>&quot;&quot;</td><td>&quot;1&quot;</td><td>&quot;&quot;</td><td>&quot;&quot;</td><td>&quot;1&quot;</td><td>&quot;1&quot;</td><td>&quot;1&quot;</td><td>&quot;1&quot;</td><td>&quot;1&quot;</td><td>&quot;1&quot;</td><td>&quot;&quot;</td><td>&quot;&quot;</td><td>&quot;3&quot;</td><td>&quot;3&quot;</td><td>&quot;10&quot;</td><td>&quot;Die Konfrontation mit oft hera…</td><td>&quot;Mehr fachlichen Input&quot;</td><td>&quot;9&quot;</td><td>&quot;&quot;</td><td>&quot;1&quot;</td><td>&quot;&quot;</td><td>&quot;&quot;</td><td>&quot;&quot;</td><td>&quot;&quot;</td><td>&quot;&quot;</td><td>&quot;25&quot;</td><td>&quot;3&quot;</td><td>&quot;1&quot;</td><td>&quot;&quot;</td><td>&quot;5&quot;</td><td>&quot;&quot;</td></tr><tr><td>81</td><td>1</td><td>1</td><td>1</td><td>517.57</td><td>&quot;86.36%&quot;</td><td>&quot;de&quot;</td><td>&quot;2025-09-24&quot;</td><td>&quot;2025-09-24&quot;</td><td>&quot; 00:08:38&quot;</td><td>229</td><td>263</td><td>25</td><td>&quot;2025-09-24&quot;</td><td>&quot;Unterstützung&quot;</td><td>&quot;Miteinander&quot;</td><td>&quot;Austausch&quot;</td><td>&quot;3&quot;</td><td>&quot;&quot;</td><td>&quot;&quot;</td><td>&quot;1&quot;</td><td>&quot;&quot;</td><td>&quot;&quot;</td><td>&quot;&quot;</td><td>&quot;&quot;</td><td>&quot;&quot;</td><td>&quot;2&quot;</td><td>&quot;6&quot;</td><td>&quot;5&quot;</td><td>&quot;6&quot;</td><td>&quot;4&quot;</td><td>&quot;5&quot;</td><td>&quot;6&quot;</td><td>&quot;6&quot;</td><td>&quot;6&quot;</td><td>&quot;6&quot;</td><td>&quot;6&quot;</td><td>&hellip;</td><td>&quot;1&quot;</td><td>&quot;&quot;</td><td>&quot;&quot;</td><td>&quot;&quot;</td><td>&quot;&quot;</td><td>&quot;&quot;</td><td>&quot;&quot;</td><td>&quot;&quot;</td><td>&quot;&quot;</td><td>&quot;1&quot;</td><td>&quot;&quot;</td><td>&quot;1&quot;</td><td>&quot;&quot;</td><td>&quot;1&quot;</td><td>&quot;&quot;</td><td>&quot;1&quot;</td><td>&quot;&quot;</td><td>&quot;&quot;</td><td>&quot;2&quot;</td><td>&quot;2&quot;</td><td>&quot;10&quot;</td><td>&quot;Wenn man gerade selber in eine…</td><td>&quot;&quot;</td><td>&quot;9&quot;</td><td>&quot;&quot;</td><td>&quot;1&quot;</td><td>&quot;&quot;</td><td>&quot;&quot;</td><td>&quot;&quot;</td><td>&quot;&quot;</td><td>&quot;&quot;</td><td>&quot;22&quot;</td><td>&quot;3&quot;</td><td>&quot;1&quot;</td><td>&quot;&quot;</td><td>&quot;5&quot;</td><td>&quot;&quot;</td></tr><tr><td>82</td><td>1</td><td>1</td><td>1</td><td>320.18</td><td>&quot;90.91%&quot;</td><td>&quot;de&quot;</td><td>&quot;2025-09-24&quot;</td><td>&quot;2025-09-24&quot;</td><td>&quot; 00:05:21&quot;</td><td>173</td><td>102</td><td>46</td><td>&quot;2025-09-24&quot;</td><td>&quot;Unterstützung&quot;</td><td>&quot;wichtig&quot;</td><td>&quot;Miteinander&quot;</td><td>&quot;1&quot;</td><td>&quot;&quot;</td><td>&quot;&quot;</td><td>&quot;&quot;</td><td>&quot;&quot;</td><td>&quot;1&quot;</td><td>&quot;&quot;</td><td>&quot;&quot;</td><td>&quot;&quot;</td><td>&quot;2&quot;</td><td>&quot;4&quot;</td><td>&quot;5&quot;</td><td>&quot;6&quot;</td><td>&quot;5&quot;</td><td>&quot;5&quot;</td><td>&quot;6&quot;</td><td>&quot;5&quot;</td><td>&quot;5&quot;</td><td>&quot;5&quot;</td><td>&quot;5&quot;</td><td>&hellip;</td><td>&quot;1&quot;</td><td>&quot;&quot;</td><td>&quot;1&quot;</td><td>&quot;&quot;</td><td>&quot;&quot;</td><td>&quot;&quot;</td><td>&quot;&quot;</td><td>&quot;1&quot;</td><td>&quot;&quot;</td><td>&quot;1&quot;</td><td>&quot;1&quot;</td><td>&quot;1&quot;</td><td>&quot;1&quot;</td><td>&quot;1&quot;</td><td>&quot;1&quot;</td><td>&quot;&quot;</td><td>&quot;&quot;</td><td>&quot;&quot;</td><td>&quot;2&quot;</td><td>&quot;2&quot;</td><td>&quot;9&quot;</td><td>&quot;Unsicherheit, ob mein gegenübe…</td><td>&quot;&quot;</td><td>&quot;8&quot;</td><td>&quot;&quot;</td><td>&quot;&quot;</td><td>&quot;1&quot;</td><td>&quot;&quot;</td><td>&quot;&quot;</td><td>&quot;&quot;</td><td>&quot;&quot;</td><td>&quot;25&quot;</td><td>&quot;4&quot;</td><td>&quot;2&quot;</td><td>&quot;es macht mir großartig viel Sp…</td><td>&quot;4&quot;</td><td>&quot;&quot;</td></tr><tr><td>85</td><td>1</td><td>1</td><td>1</td><td>12838.99</td><td>&quot; 0%&quot;</td><td>&quot;de&quot;</td><td>&quot;2025-10-08&quot;</td><td>&quot;2025-10-08&quot;</td><td>&quot; 03:33:59&quot;</td><td>3082</td><td>3</td><td>9755</td><td>&quot;2025-10-08&quot;</td><td>&quot;&quot;</td><td>&quot;&quot;</td><td>&quot;&quot;</td><td>&quot;&quot;</td><td>&quot;&quot;</td><td>&quot;&quot;</td><td>&quot;&quot;</td><td>&quot;&quot;</td><td>&quot;&quot;</td><td>&quot;&quot;</td><td>&quot;&quot;</td><td>&quot;&quot;</td><td>&quot;&quot;</td><td>&quot;&quot;</td><td>&quot;&quot;</td><td>&quot;&quot;</td><td>&quot;&quot;</td><td>&quot;&quot;</td><td>&quot;&quot;</td><td>&quot;&quot;</td><td>&quot;&quot;</td><td>&quot;&quot;</td><td>&quot;&quot;</td><td>&hellip;</td><td>&quot;&quot;</td><td>&quot;&quot;</td><td>&quot;&quot;</td><td>&quot;&quot;</td><td>&quot;&quot;</td><td>&quot;&quot;</td><td>&quot;&quot;</td><td>&quot;&quot;</td><td>&quot;&quot;</td><td>&quot;&quot;</td><td>&quot;&quot;</td><td>&quot;&quot;</td><td>&quot;&quot;</td><td>&quot;&quot;</td><td>&quot;&quot;</td><td>&quot;&quot;</td><td>&quot;&quot;</td><td>&quot;&quot;</td><td>&quot;&quot;</td><td>&quot;&quot;</td><td>&quot;&quot;</td><td>&quot;&quot;</td><td>&quot;&quot;</td><td>&quot;&quot;</td><td>&quot;&quot;</td><td>&quot;&quot;</td><td>&quot;&quot;</td><td>&quot;&quot;</td><td>&quot;&quot;</td><td>&quot;&quot;</td><td>&quot;&quot;</td><td>&quot;&quot;</td><td>&quot;&quot;</td><td>&quot;&quot;</td><td>&quot;&quot;</td><td>&quot;&quot;</td><td>&quot;&quot;</td></tr></tbody></table></div>"
      ],
      "text/plain": [
       "shape: (78, 89)\n",
       "┌─────┬─────────┬────────────┬───────────┬───┬─────┬─────────────────────────────────┬─────┬─────┐\n",
       "│ vID ┆ vANONYM ┆ vCOMPLETED ┆ vFINISHED ┆ … ┆ V62 ┆ V63                             ┆ V64 ┆ V65 │\n",
       "│ --- ┆ ---     ┆ ---        ┆ ---       ┆   ┆ --- ┆ ---                             ┆ --- ┆ --- │\n",
       "│ i64 ┆ i64     ┆ i64        ┆ i64       ┆   ┆ str ┆ str                             ┆ str ┆ str │\n",
       "╞═════╪═════════╪════════════╪═══════════╪═══╪═════╪═════════════════════════════════╪═════╪═════╡\n",
       "│ 3   ┆ 1       ┆ 1          ┆ 1         ┆ … ┆ 1   ┆ Nein :)                         ┆ 5   ┆     │\n",
       "│ 4   ┆ 1       ┆ 1          ┆ 1         ┆ … ┆ 1   ┆                                 ┆ 5   ┆     │\n",
       "│ 5   ┆ 1       ┆ 1          ┆ 1         ┆ … ┆ 1   ┆                                 ┆ 5   ┆     │\n",
       "│ 6   ┆ 1       ┆ 1          ┆ 1         ┆ … ┆ 1   ┆                                 ┆ 5   ┆     │\n",
       "│ 7   ┆ 1       ┆ 1          ┆ 1         ┆ … ┆ 2   ┆ /                               ┆ 5   ┆ /   │\n",
       "│ …   ┆ …       ┆ …          ┆ …         ┆ … ┆ …   ┆ …                               ┆ …   ┆ …   │\n",
       "│ 79  ┆ 1       ┆ 1          ┆ 1         ┆ … ┆ 1   ┆                                 ┆ 5   ┆     │\n",
       "│ 80  ┆ 1       ┆ 1          ┆ 1         ┆ … ┆ 1   ┆                                 ┆ 5   ┆     │\n",
       "│ 81  ┆ 1       ┆ 1          ┆ 1         ┆ … ┆ 1   ┆                                 ┆ 5   ┆     │\n",
       "│ 82  ┆ 1       ┆ 1          ┆ 1         ┆ … ┆ 2   ┆ es macht mir großartig viel Sp… ┆ 4   ┆     │\n",
       "│ 85  ┆ 1       ┆ 1          ┆ 1         ┆ … ┆     ┆                                 ┆     ┆     │\n",
       "└─────┴─────────┴────────────┴───────────┴───┴─────┴─────────────────────────────────┴─────┴─────┘"
      ]
     },
     "execution_count": 62,
     "metadata": {},
     "output_type": "execute_result"
    }
   ],
   "source": [
    "leg_df.filter((pl.col(\"vCOMPLETED\") == True) & (pl.col(\"vFINISHED\") == True))"
   ]
  },
  {
   "cell_type": "code",
   "execution_count": 76,
   "id": "4d9858c8",
   "metadata": {},
   "outputs": [
    {
     "data": {
      "text/plain": [
       "Schema([('vID', Int64),\n",
       "        ('vANONYM', Int64),\n",
       "        ('vCOMPLETED', Int64),\n",
       "        ('vFINISHED', Int64),\n",
       "        ('vDURATION', Float64),\n",
       "        ('vQUOTE', String),\n",
       "        ('vLANG', String),\n",
       "        ('vSTART', String),\n",
       "        ('vEND', String),\n",
       "        ('vRUNTIME', String),\n",
       "        ('vPAGETIME1', Int64),\n",
       "        ('vPAGETIME2', Int64),\n",
       "        ('vPAGETIME3', Int64),\n",
       "        ('vDATE', String),\n",
       "        ('V1', String),\n",
       "        ('V2', String),\n",
       "        ('V3', String),\n",
       "        ('V4', String),\n",
       "        ('V5', String),\n",
       "        ('V6', String),\n",
       "        ('V7', String),\n",
       "        ('V8', String),\n",
       "        ('V9', String),\n",
       "        ('V10', String),\n",
       "        ('V11', String),\n",
       "        ('V12', String),\n",
       "        ('V27.C1', String),\n",
       "        ('V28.C1', String),\n",
       "        ('V29.C1', String),\n",
       "        ('V30.C1', String),\n",
       "        ('V31.C1', String),\n",
       "        ('V32.C1', String),\n",
       "        ('V33.C1', String),\n",
       "        ('V34.C1', String),\n",
       "        ('V35.C1', String),\n",
       "        ('V36.C1', String),\n",
       "        ('V37.C1', String),\n",
       "        ('V38.C1', String),\n",
       "        ('V39.C1', String),\n",
       "        ('V66.C1', String),\n",
       "        ('V13', String),\n",
       "        ('V72', String),\n",
       "        ('V19', String),\n",
       "        ('V14', String),\n",
       "        ('V15', String),\n",
       "        ('V16', String),\n",
       "        ('V17', String),\n",
       "        ('V18', String),\n",
       "        ('V20', String),\n",
       "        ('V21', String),\n",
       "        ('V22', String),\n",
       "        ('V23', String),\n",
       "        ('V24', String),\n",
       "        ('V25', String),\n",
       "        ('V26', String),\n",
       "        ('V40', String),\n",
       "        ('V41', String),\n",
       "        ('V42', String),\n",
       "        ('V42.1', String),\n",
       "        ('V43', String),\n",
       "        ('V44', String),\n",
       "        ('V45', String),\n",
       "        ('V46', String),\n",
       "        ('V47', String),\n",
       "        ('V48', String),\n",
       "        ('V49', String),\n",
       "        ('V50', String),\n",
       "        ('V51', String),\n",
       "        ('V52', String),\n",
       "        ('V52.1', String),\n",
       "        ('V53', String),\n",
       "        ('V58', String),\n",
       "        ('V55', String),\n",
       "        ('V56', String),\n",
       "        ('V57', String),\n",
       "        ('V54', String),\n",
       "        ('V59', String),\n",
       "        ('V67', String),\n",
       "        ('V68', String),\n",
       "        ('V69', String),\n",
       "        ('V70', String),\n",
       "        ('V71', String),\n",
       "        ('V70.1', String),\n",
       "        ('V60', String),\n",
       "        ('V61', String),\n",
       "        ('V62', String),\n",
       "        ('V63', String),\n",
       "        ('V64', String),\n",
       "        ('V65', String)])"
      ]
     },
     "execution_count": 76,
     "metadata": {},
     "output_type": "execute_result"
    }
   ],
   "source": [
    "leg_df.schema"
   ]
  },
  {
   "cell_type": "code",
   "execution_count": null,
   "id": "8d6f6781",
   "metadata": {},
   "outputs": [],
   "source": []
  }
 ],
 "metadata": {
  "kernelspec": {
   "display_name": "u25",
   "language": "python",
   "name": "python3"
  },
  "language_info": {
   "codemirror_mode": {
    "name": "ipython",
    "version": 3
   },
   "file_extension": ".py",
   "mimetype": "text/x-python",
   "name": "python",
   "nbconvert_exporter": "python",
   "pygments_lexer": "ipython3",
   "version": "3.12.7"
  }
 },
 "nbformat": 4,
 "nbformat_minor": 5
}
